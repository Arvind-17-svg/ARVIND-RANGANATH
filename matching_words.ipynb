{
  "nbformat": 4,
  "nbformat_minor": 0,
  "metadata": {
    "kernelspec": {
      "display_name": "Python 3",
      "language": "python",
      "name": "python3"
    },
    "language_info": {
      "codemirror_mode": {
        "name": "ipython",
        "version": 3
      },
      "file_extension": ".py",
      "mimetype": "text/x-python",
      "name": "python",
      "nbconvert_exporter": "python",
      "pygments_lexer": "ipython3",
      "version": "3.6.10"
    },
    "colab": {
      "name": "matching_words.ipynb",
      "provenance": [],
      "collapsed_sections": []
    },
    "accelerator": "GPU"
  },
  "cells": [
    {
      "cell_type": "code",
      "metadata": {
        "id": "lyF0Q4ORCIn5",
        "colab_type": "code",
        "colab": {
          "base_uri": "https://localhost:8080/",
          "height": 106
        },
        "outputId": "b3f832dd-826f-4666-914c-23dc3cf51702"
      },
      "source": [
        "import numpy as np\n",
        "import pandas as pd\n",
        "!pip install fuzzywuzzy[speedup]\n",
        "import tensorflow as tf\n",
        "tf.test.gpu_device_name()"
      ],
      "execution_count": 3,
      "outputs": [
        {
          "output_type": "stream",
          "text": [
            "Requirement already satisfied: fuzzywuzzy[speedup] in /usr/local/lib/python3.6/dist-packages (0.18.0)\n",
            "Requirement already satisfied: python-levenshtein>=0.12; extra == \"speedup\" in /usr/local/lib/python3.6/dist-packages (from fuzzywuzzy[speedup]) (0.12.0)\n",
            "Requirement already satisfied: setuptools in /usr/local/lib/python3.6/dist-packages (from python-levenshtein>=0.12; extra == \"speedup\"->fuzzywuzzy[speedup]) (49.6.0)\n"
          ],
          "name": "stdout"
        },
        {
          "output_type": "execute_result",
          "data": {
            "application/vnd.google.colaboratory.intrinsic+json": {
              "type": "string"
            },
            "text/plain": [
              "'/device:GPU:0'"
            ]
          },
          "metadata": {
            "tags": []
          },
          "execution_count": 3
        }
      ]
    },
    {
      "cell_type": "code",
      "metadata": {
        "id": "M2O9DAWOCIoB",
        "colab_type": "code",
        "colab": {}
      },
      "source": [
        "df1=pd.read_excel('/Dataset M.xlsx')\n",
        "df2=pd.read_excel('/Dataset O.xlsx')"
      ],
      "execution_count": 4,
      "outputs": []
    },
    {
      "cell_type": "code",
      "metadata": {
        "id": "uMPImSecCIoI",
        "colab_type": "code",
        "colab": {
          "base_uri": "https://localhost:8080/",
          "height": 204
        },
        "outputId": "06dc6211-3604-4bfe-c257-c21198922dca"
      },
      "source": [
        "df1.head()"
      ],
      "execution_count": 5,
      "outputs": [
        {
          "output_type": "execute_result",
          "data": {
            "text/html": [
              "<div>\n",
              "<style scoped>\n",
              "    .dataframe tbody tr th:only-of-type {\n",
              "        vertical-align: middle;\n",
              "    }\n",
              "\n",
              "    .dataframe tbody tr th {\n",
              "        vertical-align: top;\n",
              "    }\n",
              "\n",
              "    .dataframe thead th {\n",
              "        text-align: right;\n",
              "    }\n",
              "</style>\n",
              "<table border=\"1\" class=\"dataframe\">\n",
              "  <thead>\n",
              "    <tr style=\"text-align: right;\">\n",
              "      <th></th>\n",
              "      <th>medName</th>\n",
              "      <th>medlife_price</th>\n",
              "      <th>manufacturer</th>\n",
              "      <th>Ingredients</th>\n",
              "      <th>medicineType</th>\n",
              "      <th>Pack Size</th>\n",
              "      <th>strength</th>\n",
              "      <th>pack_form</th>\n",
              "    </tr>\n",
              "  </thead>\n",
              "  <tbody>\n",
              "    <tr>\n",
              "      <th>0</th>\n",
              "      <td>ABAMUNE 300 MG</td>\n",
              "      <td>1333.55</td>\n",
              "      <td>CIPLA LTD.</td>\n",
              "      <td>ABACAVIR</td>\n",
              "      <td>TABLET</td>\n",
              "      <td>30</td>\n",
              "      <td>300 MG</td>\n",
              "      <td>Strip</td>\n",
              "    </tr>\n",
              "    <tr>\n",
              "      <th>1</th>\n",
              "      <td>ABAMUNE L</td>\n",
              "      <td>2537.00</td>\n",
              "      <td>CIPLA LTD.</td>\n",
              "      <td>ABACAVIR</td>\n",
              "      <td>TABLET</td>\n",
              "      <td>30</td>\n",
              "      <td>Not Available</td>\n",
              "      <td>Strip</td>\n",
              "    </tr>\n",
              "    <tr>\n",
              "      <th>2</th>\n",
              "      <td>ACEFLEX PLUS 100/500 MG</td>\n",
              "      <td>15.99</td>\n",
              "      <td>CIPLA LTD.</td>\n",
              "      <td>ACECLOFENAC</td>\n",
              "      <td>TABLET</td>\n",
              "      <td>10</td>\n",
              "      <td>100/500 MG</td>\n",
              "      <td>Strip</td>\n",
              "    </tr>\n",
              "    <tr>\n",
              "      <th>3</th>\n",
              "      <td>ACEFLEX PLUS 100/500 MG</td>\n",
              "      <td>15.99</td>\n",
              "      <td>CIPLA LTD.</td>\n",
              "      <td>ACECLOFENAC</td>\n",
              "      <td>TABLET</td>\n",
              "      <td>10</td>\n",
              "      <td>100/500 MG</td>\n",
              "      <td></td>\n",
              "    </tr>\n",
              "    <tr>\n",
              "      <th>4</th>\n",
              "      <td>ACIGENE MINT</td>\n",
              "      <td>5.18</td>\n",
              "      <td>CIPLA LTD.</td>\n",
              "      <td>NaN</td>\n",
              "      <td>TABLET</td>\n",
              "      <td>10</td>\n",
              "      <td>Not Available</td>\n",
              "      <td>Strip</td>\n",
              "    </tr>\n",
              "  </tbody>\n",
              "</table>\n",
              "</div>"
            ],
            "text/plain": [
              "                    medName  medlife_price  ...       strength pack_form\n",
              "0           ABAMUNE 300 MG         1333.55  ...         300 MG     Strip\n",
              "1                ABAMUNE L         2537.00  ...  Not Available     Strip\n",
              "2  ACEFLEX PLUS 100/500 MG           15.99  ...     100/500 MG     Strip\n",
              "3  ACEFLEX PLUS 100/500 MG           15.99  ...     100/500 MG          \n",
              "4             ACIGENE MINT            5.18  ...  Not Available     Strip\n",
              "\n",
              "[5 rows x 8 columns]"
            ]
          },
          "metadata": {
            "tags": []
          },
          "execution_count": 5
        }
      ]
    },
    {
      "cell_type": "code",
      "metadata": {
        "id": "daQvOrgmCIoO",
        "colab_type": "code",
        "colab": {
          "base_uri": "https://localhost:8080/",
          "height": 374
        },
        "outputId": "1041c3f4-993c-4814-c546-fef51b445657"
      },
      "source": [
        "df2.head()"
      ],
      "execution_count": 6,
      "outputs": [
        {
          "output_type": "execute_result",
          "data": {
            "text/html": [
              "<div>\n",
              "<style scoped>\n",
              "    .dataframe tbody tr th:only-of-type {\n",
              "        vertical-align: middle;\n",
              "    }\n",
              "\n",
              "    .dataframe tbody tr th {\n",
              "        vertical-align: top;\n",
              "    }\n",
              "\n",
              "    .dataframe thead th {\n",
              "        text-align: right;\n",
              "    }\n",
              "</style>\n",
              "<table border=\"1\" class=\"dataframe\">\n",
              "  <thead>\n",
              "    <tr style=\"text-align: right;\">\n",
              "      <th></th>\n",
              "      <th>medName</th>\n",
              "      <th>manufacturer</th>\n",
              "      <th>onemg_price</th>\n",
              "      <th>Ingredients</th>\n",
              "      <th>Prescription Required</th>\n",
              "      <th>Units in Pack</th>\n",
              "      <th>Pack Size</th>\n",
              "      <th>Stock</th>\n",
              "      <th>Pack Form</th>\n",
              "      <th>Strength</th>\n",
              "    </tr>\n",
              "  </thead>\n",
              "  <tbody>\n",
              "    <tr>\n",
              "      <th>0</th>\n",
              "      <td>Cofsils Cough Syrup</td>\n",
              "      <td>Cipla Health Ltd</td>\n",
              "      <td>â‚¹69.7</td>\n",
              "      <td>Diphenhydramine (14.08mg/5ml) + Ammonium Chlor...</td>\n",
              "      <td>Yes</td>\n",
              "      <td>1</td>\n",
              "      <td>100</td>\n",
              "      <td>Yes</td>\n",
              "      <td>Bottle</td>\n",
              "      <td>Not Available</td>\n",
              "    </tr>\n",
              "    <tr>\n",
              "      <th>1</th>\n",
              "      <td>Nicogum 2 Mini Lozenges Mint Plus</td>\n",
              "      <td>Cipla Health Ltd</td>\n",
              "      <td>â‚¹76.5</td>\n",
              "      <td>Nicotine (2mg)</td>\n",
              "      <td>Yes</td>\n",
              "      <td>1</td>\n",
              "      <td>10</td>\n",
              "      <td>No</td>\n",
              "      <td>Strip</td>\n",
              "      <td>Not Available</td>\n",
              "    </tr>\n",
              "    <tr>\n",
              "      <th>2</th>\n",
              "      <td>Nicogum 4 Nicotine Gum Fresh Mint Sugar Free</td>\n",
              "      <td>Cipla Health Ltd</td>\n",
              "      <td>â‚¹74.8</td>\n",
              "      <td>Nicotine (4mg)</td>\n",
              "      <td>Yes</td>\n",
              "      <td>1</td>\n",
              "      <td>10</td>\n",
              "      <td>No</td>\n",
              "      <td>Packet</td>\n",
              "      <td>Not Available</td>\n",
              "    </tr>\n",
              "    <tr>\n",
              "      <th>3</th>\n",
              "      <td>Nicotex 21mg Patch</td>\n",
              "      <td>Cipla Health Ltd</td>\n",
              "      <td>â‚¹637.5</td>\n",
              "      <td>Nicotine (21mg)</td>\n",
              "      <td>Yes</td>\n",
              "      <td>1</td>\n",
              "      <td>7</td>\n",
              "      <td>No</td>\n",
              "      <td>Packet</td>\n",
              "      <td>21mg</td>\n",
              "    </tr>\n",
              "    <tr>\n",
              "      <th>4</th>\n",
              "      <td>Nicotex 4mg Chewing Gums Classic Fresh Mint</td>\n",
              "      <td>Cipla Health Ltd</td>\n",
              "      <td>â‚¹74.8</td>\n",
              "      <td>Nicotine (4mg)</td>\n",
              "      <td>Yes</td>\n",
              "      <td>1</td>\n",
              "      <td>9</td>\n",
              "      <td>No</td>\n",
              "      <td>Packet</td>\n",
              "      <td>4mg</td>\n",
              "    </tr>\n",
              "  </tbody>\n",
              "</table>\n",
              "</div>"
            ],
            "text/plain": [
              "                                        medName  ...       Strength\n",
              "0                           Cofsils Cough Syrup  ...  Not Available\n",
              "1             Nicogum 2 Mini Lozenges Mint Plus  ...  Not Available\n",
              "2  Nicogum 4 Nicotine Gum Fresh Mint Sugar Free  ...  Not Available\n",
              "3                            Nicotex 21mg Patch  ...           21mg\n",
              "4   Nicotex 4mg Chewing Gums Classic Fresh Mint  ...            4mg\n",
              "\n",
              "[5 rows x 10 columns]"
            ]
          },
          "metadata": {
            "tags": []
          },
          "execution_count": 6
        }
      ]
    },
    {
      "cell_type": "code",
      "metadata": {
        "id": "t7x-thw3CIoT",
        "colab_type": "code",
        "colab": {}
      },
      "source": [
        "\n",
        "from fuzzywuzzy import fuzz,process\n",
        "import itertools"
      ],
      "execution_count": 7,
      "outputs": []
    },
    {
      "cell_type": "code",
      "metadata": {
        "id": "q1eew6N5CIoY",
        "colab_type": "code",
        "colab": {}
      },
      "source": [
        "csv1=df1['medName'].values\n",
        "csv2=df2['medName'].values\n",
        "csv3=df1['manufacturer'].values\n",
        "csv4=df2['manufacturer'].values"
      ],
      "execution_count": 8,
      "outputs": []
    },
    {
      "cell_type": "code",
      "metadata": {
        "id": "ulOZuVrtCIof",
        "colab_type": "code",
        "colab": {}
      },
      "source": [
        "companies=list(itertools.product(csv1,csv2))\n",
        "manufacturer=list(itertools.product(csv3,csv4))\n"
      ],
      "execution_count": 11,
      "outputs": []
    },
    {
      "cell_type": "code",
      "metadata": {
        "id": "OgZEXZz5CIol",
        "colab_type": "code",
        "colab": {}
      },
      "source": [
        "df=pd.DataFrame(companies,columns=['medicine_name_sun','medicine_name_cipla'])\n",
        "df_1=pd.DataFrame(manufacturer,columns=['manufacturer_1','manufacturer_2'])"
      ],
      "execution_count": 13,
      "outputs": []
    },
    {
      "cell_type": "code",
      "metadata": {
        "id": "TfjEohovCIop",
        "colab_type": "code",
        "colab": {
          "base_uri": "https://localhost:8080/",
          "height": 204
        },
        "outputId": "5fa80dfb-8004-4b72-8b79-e14dbe7f4821"
      },
      "source": [
        "df.head()\n"
      ],
      "execution_count": 16,
      "outputs": [
        {
          "output_type": "execute_result",
          "data": {
            "text/html": [
              "<div>\n",
              "<style scoped>\n",
              "    .dataframe tbody tr th:only-of-type {\n",
              "        vertical-align: middle;\n",
              "    }\n",
              "\n",
              "    .dataframe tbody tr th {\n",
              "        vertical-align: top;\n",
              "    }\n",
              "\n",
              "    .dataframe thead th {\n",
              "        text-align: right;\n",
              "    }\n",
              "</style>\n",
              "<table border=\"1\" class=\"dataframe\">\n",
              "  <thead>\n",
              "    <tr style=\"text-align: right;\">\n",
              "      <th></th>\n",
              "      <th>medicine_name_sun</th>\n",
              "      <th>medicine_name_cipla</th>\n",
              "    </tr>\n",
              "  </thead>\n",
              "  <tbody>\n",
              "    <tr>\n",
              "      <th>0</th>\n",
              "      <td>ABAMUNE 300 MG</td>\n",
              "      <td>Cofsils Cough Syrup</td>\n",
              "    </tr>\n",
              "    <tr>\n",
              "      <th>1</th>\n",
              "      <td>ABAMUNE 300 MG</td>\n",
              "      <td>Nicogum 2 Mini Lozenges Mint Plus</td>\n",
              "    </tr>\n",
              "    <tr>\n",
              "      <th>2</th>\n",
              "      <td>ABAMUNE 300 MG</td>\n",
              "      <td>Nicogum 4 Nicotine Gum Fresh Mint Sugar Free</td>\n",
              "    </tr>\n",
              "    <tr>\n",
              "      <th>3</th>\n",
              "      <td>ABAMUNE 300 MG</td>\n",
              "      <td>Nicotex 21mg Patch</td>\n",
              "    </tr>\n",
              "    <tr>\n",
              "      <th>4</th>\n",
              "      <td>ABAMUNE 300 MG</td>\n",
              "      <td>Nicotex 4mg Chewing Gums Classic Fresh Mint</td>\n",
              "    </tr>\n",
              "  </tbody>\n",
              "</table>\n",
              "</div>"
            ],
            "text/plain": [
              "  medicine_name_sun                           medicine_name_cipla\n",
              "0   ABAMUNE 300 MG                            Cofsils Cough Syrup\n",
              "1   ABAMUNE 300 MG              Nicogum 2 Mini Lozenges Mint Plus\n",
              "2   ABAMUNE 300 MG   Nicogum 4 Nicotine Gum Fresh Mint Sugar Free\n",
              "3   ABAMUNE 300 MG                             Nicotex 21mg Patch\n",
              "4   ABAMUNE 300 MG    Nicotex 4mg Chewing Gums Classic Fresh Mint"
            ]
          },
          "metadata": {
            "tags": []
          },
          "execution_count": 16
        }
      ]
    },
    {
      "cell_type": "code",
      "metadata": {
        "id": "Sjd9YCkSCIou",
        "colab_type": "code",
        "colab": {}
      },
      "source": [
        "X=df[:400]\n",
        "X_1=df_1[:400]\n"
      ],
      "execution_count": 17,
      "outputs": []
    },
    {
      "cell_type": "code",
      "metadata": {
        "id": "wXrGhFpKCIoy",
        "colab_type": "code",
        "colab": {
          "base_uri": "https://localhost:8080/",
          "height": 139
        },
        "outputId": "54af3ab0-e3e0-44e6-86e4-faffa55ab3aa"
      },
      "source": [
        "X['score']=X.apply(lambda row: fuzz.token_set_ratio(*row),axis=1)"
      ],
      "execution_count": 29,
      "outputs": [
        {
          "output_type": "stream",
          "text": [
            "/usr/local/lib/python3.6/dist-packages/ipykernel_launcher.py:1: SettingWithCopyWarning: \n",
            "A value is trying to be set on a copy of a slice from a DataFrame.\n",
            "Try using .loc[row_indexer,col_indexer] = value instead\n",
            "\n",
            "See the caveats in the documentation: https://pandas.pydata.org/pandas-docs/stable/user_guide/indexing.html#returning-a-view-versus-a-copy\n",
            "  \"\"\"Entry point for launching an IPython kernel.\n"
          ],
          "name": "stderr"
        }
      ]
    },
    {
      "cell_type": "code",
      "metadata": {
        "id": "9IP61EsOLACK",
        "colab_type": "code",
        "colab": {
          "base_uri": "https://localhost:8080/",
          "height": 139
        },
        "outputId": "3ea8edc8-bad8-4ffc-a723-90be0e85dc1e"
      },
      "source": [
        "X_1['score']=X_1.apply(lambda row: fuzz.token_set_ratio(*row),axis=1)"
      ],
      "execution_count": 30,
      "outputs": [
        {
          "output_type": "stream",
          "text": [
            "/usr/local/lib/python3.6/dist-packages/ipykernel_launcher.py:1: SettingWithCopyWarning: \n",
            "A value is trying to be set on a copy of a slice from a DataFrame.\n",
            "Try using .loc[row_indexer,col_indexer] = value instead\n",
            "\n",
            "See the caveats in the documentation: https://pandas.pydata.org/pandas-docs/stable/user_guide/indexing.html#returning-a-view-versus-a-copy\n",
            "  \"\"\"Entry point for launching an IPython kernel.\n"
          ],
          "name": "stderr"
        }
      ]
    },
    {
      "cell_type": "code",
      "metadata": {
        "id": "rYD2Rrr2LhoR",
        "colab_type": "code",
        "colab": {
          "base_uri": "https://localhost:8080/",
          "height": 204
        },
        "outputId": "137da012-52e7-4b72-a16a-8e8ca8ecb03c"
      },
      "source": [
        "X.head()"
      ],
      "execution_count": 31,
      "outputs": [
        {
          "output_type": "execute_result",
          "data": {
            "text/html": [
              "<div>\n",
              "<style scoped>\n",
              "    .dataframe tbody tr th:only-of-type {\n",
              "        vertical-align: middle;\n",
              "    }\n",
              "\n",
              "    .dataframe tbody tr th {\n",
              "        vertical-align: top;\n",
              "    }\n",
              "\n",
              "    .dataframe thead th {\n",
              "        text-align: right;\n",
              "    }\n",
              "</style>\n",
              "<table border=\"1\" class=\"dataframe\">\n",
              "  <thead>\n",
              "    <tr style=\"text-align: right;\">\n",
              "      <th></th>\n",
              "      <th>medicine_name_sun</th>\n",
              "      <th>medicine_name_cipla</th>\n",
              "      <th>score</th>\n",
              "    </tr>\n",
              "  </thead>\n",
              "  <tbody>\n",
              "    <tr>\n",
              "      <th>0</th>\n",
              "      <td>ABAMUNE 300 MG</td>\n",
              "      <td>Cofsils Cough Syrup</td>\n",
              "      <td>18</td>\n",
              "    </tr>\n",
              "    <tr>\n",
              "      <th>1</th>\n",
              "      <td>ABAMUNE 300 MG</td>\n",
              "      <td>Nicogum 2 Mini Lozenges Mint Plus</td>\n",
              "      <td>26</td>\n",
              "    </tr>\n",
              "    <tr>\n",
              "      <th>2</th>\n",
              "      <td>ABAMUNE 300 MG</td>\n",
              "      <td>Nicogum 4 Nicotine Gum Fresh Mint Sugar Free</td>\n",
              "      <td>24</td>\n",
              "    </tr>\n",
              "    <tr>\n",
              "      <th>3</th>\n",
              "      <td>ABAMUNE 300 MG</td>\n",
              "      <td>Nicotex 21mg Patch</td>\n",
              "      <td>25</td>\n",
              "    </tr>\n",
              "    <tr>\n",
              "      <th>4</th>\n",
              "      <td>ABAMUNE 300 MG</td>\n",
              "      <td>Nicotex 4mg Chewing Gums Classic Fresh Mint</td>\n",
              "      <td>18</td>\n",
              "    </tr>\n",
              "  </tbody>\n",
              "</table>\n",
              "</div>"
            ],
            "text/plain": [
              "  medicine_name_sun                           medicine_name_cipla  score\n",
              "0   ABAMUNE 300 MG                            Cofsils Cough Syrup     18\n",
              "1   ABAMUNE 300 MG              Nicogum 2 Mini Lozenges Mint Plus     26\n",
              "2   ABAMUNE 300 MG   Nicogum 4 Nicotine Gum Fresh Mint Sugar Free     24\n",
              "3   ABAMUNE 300 MG                             Nicotex 21mg Patch     25\n",
              "4   ABAMUNE 300 MG    Nicotex 4mg Chewing Gums Classic Fresh Mint     18"
            ]
          },
          "metadata": {
            "tags": []
          },
          "execution_count": 31
        }
      ]
    },
    {
      "cell_type": "code",
      "metadata": {
        "id": "p9UxNbDmPfe_",
        "colab_type": "code",
        "colab": {
          "base_uri": "https://localhost:8080/",
          "height": 328
        },
        "outputId": "d68a8574-d0ad-49b2-b636-263c5f7851ab"
      },
      "source": [
        "X[(X['score']>50)]"
      ],
      "execution_count": 32,
      "outputs": [
        {
          "output_type": "execute_result",
          "data": {
            "text/html": [
              "<div>\n",
              "<style scoped>\n",
              "    .dataframe tbody tr th:only-of-type {\n",
              "        vertical-align: middle;\n",
              "    }\n",
              "\n",
              "    .dataframe tbody tr th {\n",
              "        vertical-align: top;\n",
              "    }\n",
              "\n",
              "    .dataframe thead th {\n",
              "        text-align: right;\n",
              "    }\n",
              "</style>\n",
              "<table border=\"1\" class=\"dataframe\">\n",
              "  <thead>\n",
              "    <tr style=\"text-align: right;\">\n",
              "      <th></th>\n",
              "      <th>medicine_name_sun</th>\n",
              "      <th>medicine_name_cipla</th>\n",
              "      <th>score</th>\n",
              "    </tr>\n",
              "  </thead>\n",
              "  <tbody>\n",
              "    <tr>\n",
              "      <th>20</th>\n",
              "      <td>ABAMUNE 300 MG</td>\n",
              "      <td>ALIANZ 100 MG/20 MG CAPSULE</td>\n",
              "      <td>53</td>\n",
              "    </tr>\n",
              "    <tr>\n",
              "      <th>24</th>\n",
              "      <td>ABAMUNE 300 MG</td>\n",
              "      <td>AMPISYN 500 MG CAPSULE</td>\n",
              "      <td>56</td>\n",
              "    </tr>\n",
              "    <tr>\n",
              "      <th>25</th>\n",
              "      <td>ABAMUNE 300 MG</td>\n",
              "      <td>AZEEMUNE 500MG TABLET</td>\n",
              "      <td>51</td>\n",
              "    </tr>\n",
              "    <tr>\n",
              "      <th>26</th>\n",
              "      <td>ABAMUNE 300 MG</td>\n",
              "      <td>Abamune L 600 mg/300 mg Tablet</td>\n",
              "      <td>100</td>\n",
              "    </tr>\n",
              "    <tr>\n",
              "      <th>27</th>\n",
              "      <td>ABAMUNE 300 MG</td>\n",
              "      <td>Abamune Tablet</td>\n",
              "      <td>67</td>\n",
              "    </tr>\n",
              "    <tr>\n",
              "      <th>41</th>\n",
              "      <td>ABAMUNE 300 MG</td>\n",
              "      <td>Aclene 0.10% Gel</td>\n",
              "      <td>55</td>\n",
              "    </tr>\n",
              "    <tr>\n",
              "      <th>54</th>\n",
              "      <td>ABAMUNE 300 MG</td>\n",
              "      <td>Adaclene 0.1% Gel</td>\n",
              "      <td>53</td>\n",
              "    </tr>\n",
              "    <tr>\n",
              "      <th>131</th>\n",
              "      <td>ABAMUNE 300 MG</td>\n",
              "      <td>Asthacrom 1 mg/100 mg Inhaler</td>\n",
              "      <td>55</td>\n",
              "    </tr>\n",
              "    <tr>\n",
              "      <th>262</th>\n",
              "      <td>ABAMUNE 300 MG</td>\n",
              "      <td>Bromolin 500 mg/8 mg Capsule</td>\n",
              "      <td>51</td>\n",
              "    </tr>\n",
              "  </tbody>\n",
              "</table>\n",
              "</div>"
            ],
            "text/plain": [
              "    medicine_name_sun             medicine_name_cipla  score\n",
              "20    ABAMUNE 300 MG      ALIANZ 100 MG/20 MG CAPSULE     53\n",
              "24    ABAMUNE 300 MG           AMPISYN 500 MG CAPSULE     56\n",
              "25    ABAMUNE 300 MG            AZEEMUNE 500MG TABLET     51\n",
              "26    ABAMUNE 300 MG   Abamune L 600 mg/300 mg Tablet    100\n",
              "27    ABAMUNE 300 MG                   Abamune Tablet     67\n",
              "41    ABAMUNE 300 MG                 Aclene 0.10% Gel     55\n",
              "54    ABAMUNE 300 MG                Adaclene 0.1% Gel     53\n",
              "131   ABAMUNE 300 MG    Asthacrom 1 mg/100 mg Inhaler     55\n",
              "262   ABAMUNE 300 MG     Bromolin 500 mg/8 mg Capsule     51"
            ]
          },
          "metadata": {
            "tags": []
          },
          "execution_count": 32
        }
      ]
    },
    {
      "cell_type": "code",
      "metadata": {
        "id": "Oih-yaKuPvZ4",
        "colab_type": "code",
        "colab": {
          "base_uri": "https://localhost:8080/",
          "height": 419
        },
        "outputId": "d4360c60-a8b7-4d4b-b59f-ef5fea599adc"
      },
      "source": [
        "X_1[(X_1['score']>50)]"
      ],
      "execution_count": 33,
      "outputs": [
        {
          "output_type": "execute_result",
          "data": {
            "text/html": [
              "<div>\n",
              "<style scoped>\n",
              "    .dataframe tbody tr th:only-of-type {\n",
              "        vertical-align: middle;\n",
              "    }\n",
              "\n",
              "    .dataframe tbody tr th {\n",
              "        vertical-align: top;\n",
              "    }\n",
              "\n",
              "    .dataframe thead th {\n",
              "        text-align: right;\n",
              "    }\n",
              "</style>\n",
              "<table border=\"1\" class=\"dataframe\">\n",
              "  <thead>\n",
              "    <tr style=\"text-align: right;\">\n",
              "      <th></th>\n",
              "      <th>manufacturer_1</th>\n",
              "      <th>manufacturer_2</th>\n",
              "      <th>score</th>\n",
              "    </tr>\n",
              "  </thead>\n",
              "  <tbody>\n",
              "    <tr>\n",
              "      <th>0</th>\n",
              "      <td>CIPLA LTD.</td>\n",
              "      <td>Cipla Health Ltd</td>\n",
              "      <td>100</td>\n",
              "    </tr>\n",
              "    <tr>\n",
              "      <th>1</th>\n",
              "      <td>CIPLA LTD.</td>\n",
              "      <td>Cipla Health Ltd</td>\n",
              "      <td>100</td>\n",
              "    </tr>\n",
              "    <tr>\n",
              "      <th>2</th>\n",
              "      <td>CIPLA LTD.</td>\n",
              "      <td>Cipla Health Ltd</td>\n",
              "      <td>100</td>\n",
              "    </tr>\n",
              "    <tr>\n",
              "      <th>3</th>\n",
              "      <td>CIPLA LTD.</td>\n",
              "      <td>Cipla Health Ltd</td>\n",
              "      <td>100</td>\n",
              "    </tr>\n",
              "    <tr>\n",
              "      <th>4</th>\n",
              "      <td>CIPLA LTD.</td>\n",
              "      <td>Cipla Health Ltd</td>\n",
              "      <td>100</td>\n",
              "    </tr>\n",
              "    <tr>\n",
              "      <th>...</th>\n",
              "      <td>...</td>\n",
              "      <td>...</td>\n",
              "      <td>...</td>\n",
              "    </tr>\n",
              "    <tr>\n",
              "      <th>395</th>\n",
              "      <td>CIPLA LTD.</td>\n",
              "      <td>Cipla Ltd</td>\n",
              "      <td>100</td>\n",
              "    </tr>\n",
              "    <tr>\n",
              "      <th>396</th>\n",
              "      <td>CIPLA LTD.</td>\n",
              "      <td>Cipla Ltd</td>\n",
              "      <td>100</td>\n",
              "    </tr>\n",
              "    <tr>\n",
              "      <th>397</th>\n",
              "      <td>CIPLA LTD.</td>\n",
              "      <td>Cipla Ltd</td>\n",
              "      <td>100</td>\n",
              "    </tr>\n",
              "    <tr>\n",
              "      <th>398</th>\n",
              "      <td>CIPLA LTD.</td>\n",
              "      <td>Cipla Ltd</td>\n",
              "      <td>100</td>\n",
              "    </tr>\n",
              "    <tr>\n",
              "      <th>399</th>\n",
              "      <td>CIPLA LTD.</td>\n",
              "      <td>Cipla Ltd</td>\n",
              "      <td>100</td>\n",
              "    </tr>\n",
              "  </tbody>\n",
              "</table>\n",
              "<p>400 rows × 3 columns</p>\n",
              "</div>"
            ],
            "text/plain": [
              "    manufacturer_1    manufacturer_2  score\n",
              "0       CIPLA LTD.  Cipla Health Ltd    100\n",
              "1       CIPLA LTD.  Cipla Health Ltd    100\n",
              "2       CIPLA LTD.  Cipla Health Ltd    100\n",
              "3       CIPLA LTD.  Cipla Health Ltd    100\n",
              "4       CIPLA LTD.  Cipla Health Ltd    100\n",
              "..             ...               ...    ...\n",
              "395     CIPLA LTD.         Cipla Ltd    100\n",
              "396     CIPLA LTD.         Cipla Ltd    100\n",
              "397     CIPLA LTD.         Cipla Ltd    100\n",
              "398     CIPLA LTD.         Cipla Ltd    100\n",
              "399     CIPLA LTD.         Cipla Ltd    100\n",
              "\n",
              "[400 rows x 3 columns]"
            ]
          },
          "metadata": {
            "tags": []
          },
          "execution_count": 33
        }
      ]
    },
    {
      "cell_type": "code",
      "metadata": {
        "id": "PoUi2DdyP21K",
        "colab_type": "code",
        "colab": {}
      },
      "source": [
        ""
      ],
      "execution_count": null,
      "outputs": []
    }
  ]
}