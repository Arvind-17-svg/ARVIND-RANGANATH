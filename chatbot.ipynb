{
 "cells": [
  {
   "cell_type": "code",
   "execution_count": 1,
   "metadata": {},
   "outputs": [],
   "source": [
    "import pickle\n",
    "import numpy as np"
   ]
  },
  {
   "cell_type": "code",
   "execution_count": 2,
   "metadata": {},
   "outputs": [],
   "source": [
    "with open(r\"C:\\Users\\ADMIN\\UPDATED-NLP-COURSE\\UPDATED_NLP_COURSE\\06-Deep-Learning\\train_qa.txt\",'rb') as f:\n",
    "    train_data=pickle.load(f)"
   ]
  },
  {
   "cell_type": "code",
   "execution_count": 3,
   "metadata": {},
   "outputs": [],
   "source": [
    "with open(r\"C:\\Users\\ADMIN\\UPDATED-NLP-COURSE\\UPDATED_NLP_COURSE\\06-Deep-Learning\\test_qa.txt\",'rb') as f:\n",
    "    test_data=pickle.load(f)"
   ]
  },
  {
   "cell_type": "code",
   "execution_count": 4,
   "metadata": {},
   "outputs": [
    {
     "data": {
      "text/plain": [
       "'Mary moved to the bathroom . Sandra journeyed to the bedroom .'"
      ]
     },
     "execution_count": 4,
     "metadata": {},
     "output_type": "execute_result"
    }
   ],
   "source": [
    "' '.join(train_data[0][0])"
   ]
  },
  {
   "cell_type": "code",
   "execution_count": 5,
   "metadata": {},
   "outputs": [],
   "source": [
    "vocab = set()"
   ]
  },
  {
   "cell_type": "code",
   "execution_count": 6,
   "metadata": {},
   "outputs": [],
   "source": [
    "all_data = test_data + train_data"
   ]
  },
  {
   "cell_type": "code",
   "execution_count": 7,
   "metadata": {},
   "outputs": [],
   "source": [
    "for story, question , answer in all_data:\n",
    "\n",
    "    vocab = vocab.union(set(story))\n",
    "    vocab = vocab.union(set(question))"
   ]
  },
  {
   "cell_type": "code",
   "execution_count": 8,
   "metadata": {},
   "outputs": [],
   "source": [
    "vocab.add('no')\n",
    "vocab.add('yes')"
   ]
  },
  {
   "cell_type": "code",
   "execution_count": 9,
   "metadata": {},
   "outputs": [],
   "source": [
    "vocab_len = len(vocab) + 1"
   ]
  },
  {
   "cell_type": "code",
   "execution_count": 10,
   "metadata": {},
   "outputs": [],
   "source": [
    "max_story_len = max([len(data[0]) for data in all_data])"
   ]
  },
  {
   "cell_type": "code",
   "execution_count": 11,
   "metadata": {},
   "outputs": [],
   "source": [
    "max_question_len = max([len(data[1]) for data in all_data])"
   ]
  },
  {
   "cell_type": "code",
   "execution_count": 12,
   "metadata": {},
   "outputs": [],
   "source": [
    "vocab_size = len(vocab) + 1"
   ]
  },
  {
   "cell_type": "code",
   "execution_count": 13,
   "metadata": {},
   "outputs": [
    {
     "name": "stderr",
     "output_type": "stream",
     "text": [
      "Using TensorFlow backend.\n",
      "C:\\Users\\ADMIN\\.conda\\envs\\tensorenv\\lib\\site-packages\\tensorflow\\python\\framework\\dtypes.py:526: FutureWarning: Passing (type, 1) or '1type' as a synonym of type is deprecated; in a future version of numpy, it will be understood as (type, (1,)) / '(1,)type'.\n",
      "  _np_qint8 = np.dtype([(\"qint8\", np.int8, 1)])\n",
      "C:\\Users\\ADMIN\\.conda\\envs\\tensorenv\\lib\\site-packages\\tensorflow\\python\\framework\\dtypes.py:527: FutureWarning: Passing (type, 1) or '1type' as a synonym of type is deprecated; in a future version of numpy, it will be understood as (type, (1,)) / '(1,)type'.\n",
      "  _np_quint8 = np.dtype([(\"quint8\", np.uint8, 1)])\n",
      "C:\\Users\\ADMIN\\.conda\\envs\\tensorenv\\lib\\site-packages\\tensorflow\\python\\framework\\dtypes.py:528: FutureWarning: Passing (type, 1) or '1type' as a synonym of type is deprecated; in a future version of numpy, it will be understood as (type, (1,)) / '(1,)type'.\n",
      "  _np_qint16 = np.dtype([(\"qint16\", np.int16, 1)])\n",
      "C:\\Users\\ADMIN\\.conda\\envs\\tensorenv\\lib\\site-packages\\tensorflow\\python\\framework\\dtypes.py:529: FutureWarning: Passing (type, 1) or '1type' as a synonym of type is deprecated; in a future version of numpy, it will be understood as (type, (1,)) / '(1,)type'.\n",
      "  _np_quint16 = np.dtype([(\"quint16\", np.uint16, 1)])\n",
      "C:\\Users\\ADMIN\\.conda\\envs\\tensorenv\\lib\\site-packages\\tensorflow\\python\\framework\\dtypes.py:530: FutureWarning: Passing (type, 1) or '1type' as a synonym of type is deprecated; in a future version of numpy, it will be understood as (type, (1,)) / '(1,)type'.\n",
      "  _np_qint32 = np.dtype([(\"qint32\", np.int32, 1)])\n",
      "C:\\Users\\ADMIN\\.conda\\envs\\tensorenv\\lib\\site-packages\\tensorflow\\python\\framework\\dtypes.py:535: FutureWarning: Passing (type, 1) or '1type' as a synonym of type is deprecated; in a future version of numpy, it will be understood as (type, (1,)) / '(1,)type'.\n",
      "  np_resource = np.dtype([(\"resource\", np.ubyte, 1)])\n"
     ]
    }
   ],
   "source": [
    "from keras.preprocessing.sequence import pad_sequences\n",
    "from keras.preprocessing.text import Tokenizer"
   ]
  },
  {
   "cell_type": "code",
   "execution_count": 14,
   "metadata": {},
   "outputs": [],
   "source": [
    "tokenizer = Tokenizer(filters=[])\n",
    "tokenizer.fit_on_texts(vocab)"
   ]
  },
  {
   "cell_type": "code",
   "execution_count": 15,
   "metadata": {},
   "outputs": [
    {
     "data": {
      "text/plain": [
       "{'took': 1,\n",
       " 'journeyed': 2,\n",
       " 'daniel': 3,\n",
       " '?': 4,\n",
       " 'bathroom': 5,\n",
       " 'hallway': 6,\n",
       " '.': 7,\n",
       " 'to': 8,\n",
       " 'moved': 9,\n",
       " 'sandra': 10,\n",
       " 'got': 11,\n",
       " 'apple': 12,\n",
       " 'in': 13,\n",
       " 'kitchen': 14,\n",
       " 'back': 15,\n",
       " 'the': 16,\n",
       " 'office': 17,\n",
       " 'left': 18,\n",
       " 'put': 19,\n",
       " 'went': 20,\n",
       " 'john': 21,\n",
       " 'up': 22,\n",
       " 'there': 23,\n",
       " 'grabbed': 24,\n",
       " 'dropped': 25,\n",
       " 'garden': 26,\n",
       " 'travelled': 27,\n",
       " 'bedroom': 28,\n",
       " 'down': 29,\n",
       " 'is': 30,\n",
       " 'yes': 31,\n",
       " 'football': 32,\n",
       " 'milk': 33,\n",
       " 'no': 34,\n",
       " 'discarded': 35,\n",
       " 'mary': 36,\n",
       " 'picked': 37}"
      ]
     },
     "execution_count": 15,
     "metadata": {},
     "output_type": "execute_result"
    }
   ],
   "source": [
    "tokenizer.word_index"
   ]
  },
  {
   "cell_type": "code",
   "execution_count": 16,
   "metadata": {},
   "outputs": [],
   "source": [
    "train_story_text = []\n",
    "train_question_text = []\n",
    "train_answers = []\n",
    "\n",
    "for story,question,answer in train_data:\n",
    "    train_story_text.append(story)\n",
    "    train_question_text.append(question)"
   ]
  },
  {
   "cell_type": "code",
   "execution_count": 17,
   "metadata": {},
   "outputs": [],
   "source": [
    "train_story_seq = tokenizer.texts_to_sequences(train_story_text)"
   ]
  },
  {
   "cell_type": "code",
   "execution_count": 18,
   "metadata": {},
   "outputs": [],
   "source": [
    "def vectorize_stories(data, word_index=tokenizer.word_index, max_story_len=max_story_len,max_question_len=max_question_len):\n",
    "    \n",
    "    \n",
    "\n",
    "    \n",
    "    X = []\n",
    "\n",
    "    Xq = []\n",
    "    \n",
    "    Y = []\n",
    "    \n",
    "    \n",
    "    for story, query, answer in data:\n",
    "        \n",
    "        \n",
    "        x = [word_index[word.lower()] for word in story]\n",
    "        \n",
    "        xq = [word_index[word.lower()] for word in query]\n",
    "        \n",
    "        \n",
    "        y = np.zeros(len(word_index) + 1)\n",
    "        \n",
    "        \n",
    "        y[word_index[answer]] = 1\n",
    "        \n",
    "        \n",
    "        X.append(x)\n",
    "        Xq.append(xq)\n",
    "        Y.append(y)\n",
    "        \n",
    "   \n",
    "    return (pad_sequences(X, maxlen=max_story_len),pad_sequences(Xq, maxlen=max_question_len), np.array(Y))"
   ]
  },
  {
   "cell_type": "code",
   "execution_count": 19,
   "metadata": {},
   "outputs": [],
   "source": [
    "inputs_train, queries_train, answers_train = vectorize_stories(train_data)"
   ]
  },
  {
   "cell_type": "code",
   "execution_count": 20,
   "metadata": {},
   "outputs": [],
   "source": [
    "inputs_test, queries_test, answers_test = vectorize_stories(test_data)"
   ]
  },
  {
   "cell_type": "code",
   "execution_count": 21,
   "metadata": {},
   "outputs": [],
   "source": [
    "from keras.models import Sequential, Model\n",
    "from keras.layers.embeddings import Embedding\n",
    "from keras.layers import Input, Activation, Dense, Permute, Dropout\n",
    "from keras.layers import add, dot, concatenate\n",
    "from keras.layers import LSTM"
   ]
  },
  {
   "cell_type": "code",
   "execution_count": 22,
   "metadata": {},
   "outputs": [],
   "source": [
    "input_sequence = Input((max_story_len,))\n",
    "question = Input((max_question_len,))"
   ]
  },
  {
   "cell_type": "code",
   "execution_count": 23,
   "metadata": {},
   "outputs": [
    {
     "name": "stdout",
     "output_type": "stream",
     "text": [
      "WARNING:tensorflow:From C:\\Users\\ADMIN\\.conda\\envs\\tensorenv\\lib\\site-packages\\tensorflow\\python\\ops\\resource_variable_ops.py:435: colocate_with (from tensorflow.python.framework.ops) is deprecated and will be removed in a future version.\n",
      "Instructions for updating:\n",
      "Colocations handled automatically by placer.\n"
     ]
    }
   ],
   "source": [
    "input_encoder_m = Sequential()\n",
    "input_encoder_m.add(Embedding(input_dim=vocab_size,output_dim=64))\n",
    "input_encoder_m.add(Dropout(0.3))\n"
   ]
  },
  {
   "cell_type": "code",
   "execution_count": 24,
   "metadata": {},
   "outputs": [],
   "source": [
    "input_encoder_c = Sequential()\n",
    "input_encoder_c.add(Embedding(input_dim=vocab_size,output_dim=max_question_len))\n",
    "input_encoder_c.add(Dropout(0.3))"
   ]
  },
  {
   "cell_type": "code",
   "execution_count": 25,
   "metadata": {},
   "outputs": [],
   "source": [
    "question_encoder = Sequential()\n",
    "question_encoder.add(Embedding(input_dim=vocab_size,\n",
    "                               output_dim=64,\n",
    "                               input_length=max_question_len))\n",
    "question_encoder.add(Dropout(0.3))"
   ]
  },
  {
   "cell_type": "code",
   "execution_count": 26,
   "metadata": {},
   "outputs": [],
   "source": [
    "input_encoded_m = input_encoder_m(input_sequence)\n",
    "input_encoded_c = input_encoder_c(input_sequence)\n",
    "question_encoded = question_encoder(question)"
   ]
  },
  {
   "cell_type": "code",
   "execution_count": 27,
   "metadata": {},
   "outputs": [],
   "source": [
    "match = dot([input_encoded_m, question_encoded], axes=(2, 2))\n",
    "match = Activation('softmax')(match)"
   ]
  },
  {
   "cell_type": "code",
   "execution_count": 28,
   "metadata": {},
   "outputs": [],
   "source": [
    "response = add([match, input_encoded_c])  \n",
    "response = Permute((2, 1))(response)"
   ]
  },
  {
   "cell_type": "code",
   "execution_count": 29,
   "metadata": {},
   "outputs": [
    {
     "data": {
      "text/plain": [
       "<tf.Tensor 'concatenate_1/concat:0' shape=(?, 6, 220) dtype=float32>"
      ]
     },
     "execution_count": 29,
     "metadata": {},
     "output_type": "execute_result"
    }
   ],
   "source": [
    "answer = concatenate([response, question_encoded])\n",
    "answer"
   ]
  },
  {
   "cell_type": "code",
   "execution_count": 30,
   "metadata": {},
   "outputs": [],
   "source": [
    "answer=LSTM(32)(answer)\n"
   ]
  },
  {
   "cell_type": "code",
   "execution_count": 31,
   "metadata": {},
   "outputs": [],
   "source": [
    "answer=Dropout(0.5)(answer)"
   ]
  },
  {
   "cell_type": "code",
   "execution_count": 32,
   "metadata": {},
   "outputs": [],
   "source": [
    "answer=Dense(vocab_size)(answer)"
   ]
  },
  {
   "cell_type": "code",
   "execution_count": 33,
   "metadata": {},
   "outputs": [],
   "source": [
    "answer=Activation('softmax')(answer)"
   ]
  },
  {
   "cell_type": "code",
   "execution_count": 34,
   "metadata": {},
   "outputs": [
    {
     "name": "stdout",
     "output_type": "stream",
     "text": [
      "Model: \"model_1\"\n",
      "__________________________________________________________________________________________________\n",
      "Layer (type)                    Output Shape         Param #     Connected to                     \n",
      "==================================================================================================\n",
      "input_1 (InputLayer)            (None, 156)          0                                            \n",
      "__________________________________________________________________________________________________\n",
      "input_2 (InputLayer)            (None, 6)            0                                            \n",
      "__________________________________________________________________________________________________\n",
      "sequential_1 (Sequential)       multiple             2432        input_1[0][0]                    \n",
      "__________________________________________________________________________________________________\n",
      "sequential_3 (Sequential)       (None, 6, 64)        2432        input_2[0][0]                    \n",
      "__________________________________________________________________________________________________\n",
      "dot_1 (Dot)                     (None, 156, 6)       0           sequential_1[1][0]               \n",
      "                                                                 sequential_3[1][0]               \n",
      "__________________________________________________________________________________________________\n",
      "activation_1 (Activation)       (None, 156, 6)       0           dot_1[0][0]                      \n",
      "__________________________________________________________________________________________________\n",
      "sequential_2 (Sequential)       multiple             228         input_1[0][0]                    \n",
      "__________________________________________________________________________________________________\n",
      "add_1 (Add)                     (None, 156, 6)       0           activation_1[0][0]               \n",
      "                                                                 sequential_2[1][0]               \n",
      "__________________________________________________________________________________________________\n",
      "permute_1 (Permute)             (None, 6, 156)       0           add_1[0][0]                      \n",
      "__________________________________________________________________________________________________\n",
      "concatenate_1 (Concatenate)     (None, 6, 220)       0           permute_1[0][0]                  \n",
      "                                                                 sequential_3[1][0]               \n",
      "__________________________________________________________________________________________________\n",
      "lstm_1 (LSTM)                   (None, 32)           32384       concatenate_1[0][0]              \n",
      "__________________________________________________________________________________________________\n",
      "dropout_4 (Dropout)             (None, 32)           0           lstm_1[0][0]                     \n",
      "__________________________________________________________________________________________________\n",
      "dense_1 (Dense)                 (None, 38)           1254        dropout_4[0][0]                  \n",
      "__________________________________________________________________________________________________\n",
      "activation_2 (Activation)       (None, 38)           0           dense_1[0][0]                    \n",
      "==================================================================================================\n",
      "Total params: 38,730\n",
      "Trainable params: 38,730\n",
      "Non-trainable params: 0\n",
      "__________________________________________________________________________________________________\n"
     ]
    }
   ],
   "source": [
    "model=Model([input_sequence,question],answer)\n",
    "model.compile(optimizer='rmsprop',loss='categorical_crossentropy',metrics=['accuracy'])\n",
    "model.summary()"
   ]
  },
  {
   "cell_type": "code",
   "execution_count": 36,
   "metadata": {},
   "outputs": [
    {
     "name": "stdout",
     "output_type": "stream",
     "text": [
      "WARNING:tensorflow:From C:\\Users\\ADMIN\\.conda\\envs\\tensorenv\\lib\\site-packages\\tensorflow\\python\\ops\\math_ops.py:3066: to_int32 (from tensorflow.python.ops.math_ops) is deprecated and will be removed in a future version.\n",
      "Instructions for updating:\n",
      "Use tf.cast instead.\n",
      "WARNING:tensorflow:From C:\\Users\\ADMIN\\.conda\\envs\\tensorenv\\lib\\site-packages\\tensorflow\\python\\ops\\math_grad.py:102: div (from tensorflow.python.ops.math_ops) is deprecated and will be removed in a future version.\n",
      "Instructions for updating:\n",
      "Deprecated in favor of operator or tf.math.divide.\n",
      "Train on 10000 samples, validate on 1000 samples\n",
      "Epoch 1/120\n",
      "10000/10000 [==============================] - 20s 2ms/step - loss: 0.9009 - accuracy: 0.4955 - val_loss: 0.6946 - val_accuracy: 0.4970\n",
      "Epoch 2/120\n",
      "10000/10000 [==============================] - 15s 1ms/step - loss: 0.7026 - accuracy: 0.5054 - val_loss: 0.6934 - val_accuracy: 0.4970\n",
      "Epoch 3/120\n",
      "10000/10000 [==============================] - 15s 1ms/step - loss: 0.6970 - accuracy: 0.5014 - val_loss: 0.6943 - val_accuracy: 0.4970\n",
      "Epoch 4/120\n",
      "10000/10000 [==============================] - 15s 1ms/step - loss: 0.6956 - accuracy: 0.4969 - val_loss: 0.6945 - val_accuracy: 0.4970\n",
      "Epoch 5/120\n",
      "10000/10000 [==============================] - 15s 2ms/step - loss: 0.6947 - accuracy: 0.4984 - val_loss: 0.6973 - val_accuracy: 0.4970\n",
      "Epoch 6/120\n",
      "10000/10000 [==============================] - 15s 1ms/step - loss: 0.6948 - accuracy: 0.5029 - val_loss: 0.6940 - val_accuracy: 0.4970\n",
      "Epoch 7/120\n",
      "10000/10000 [==============================] - 15s 2ms/step - loss: 0.6944 - accuracy: 0.5047 - val_loss: 0.6933 - val_accuracy: 0.4970\n",
      "Epoch 8/120\n",
      "10000/10000 [==============================] - 15s 2ms/step - loss: 0.6945 - accuracy: 0.5031 - val_loss: 0.6936 - val_accuracy: 0.4990\n",
      "Epoch 9/120\n",
      "10000/10000 [==============================] - 15s 2ms/step - loss: 0.6938 - accuracy: 0.5040 - val_loss: 0.6951 - val_accuracy: 0.4950\n",
      "Epoch 10/120\n",
      "10000/10000 [==============================] - 15s 2ms/step - loss: 0.6928 - accuracy: 0.5180 - val_loss: 0.6940 - val_accuracy: 0.4910\n",
      "Epoch 11/120\n",
      "10000/10000 [==============================] - 15s 2ms/step - loss: 0.6858 - accuracy: 0.5472 - val_loss: 0.6767 - val_accuracy: 0.5600\n",
      "Epoch 12/120\n",
      "10000/10000 [==============================] - 15s 1ms/step - loss: 0.6579 - accuracy: 0.6117 - val_loss: 0.6376 - val_accuracy: 0.6590\n",
      "Epoch 13/120\n",
      "10000/10000 [==============================] - 15s 1ms/step - loss: 0.6380 - accuracy: 0.6495 - val_loss: 0.6214 - val_accuracy: 0.6690\n",
      "Epoch 14/120\n",
      "10000/10000 [==============================] - 15s 1ms/step - loss: 0.6208 - accuracy: 0.6624 - val_loss: 0.6048 - val_accuracy: 0.6710\n",
      "Epoch 15/120\n",
      "10000/10000 [==============================] - 15s 1ms/step - loss: 0.6168 - accuracy: 0.6679 - val_loss: 0.6023 - val_accuracy: 0.6780\n",
      "Epoch 16/120\n",
      "10000/10000 [==============================] - 15s 1ms/step - loss: 0.6087 - accuracy: 0.6750 - val_loss: 0.5908 - val_accuracy: 0.6900\n",
      "Epoch 17/120\n",
      "10000/10000 [==============================] - 15s 2ms/step - loss: 0.5988 - accuracy: 0.6866 - val_loss: 0.5877 - val_accuracy: 0.6840\n",
      "Epoch 18/120\n",
      "10000/10000 [==============================] - 15s 2ms/step - loss: 0.5923 - accuracy: 0.6857 - val_loss: 0.5751 - val_accuracy: 0.6960\n",
      "Epoch 19/120\n",
      "10000/10000 [==============================] - 15s 2ms/step - loss: 0.5777 - accuracy: 0.7090 - val_loss: 0.5662 - val_accuracy: 0.7040\n",
      "Epoch 20/120\n",
      "10000/10000 [==============================] - 15s 1ms/step - loss: 0.5627 - accuracy: 0.7179 - val_loss: 0.5464 - val_accuracy: 0.7100\n",
      "Epoch 21/120\n",
      "10000/10000 [==============================] - 15s 1ms/step - loss: 0.5508 - accuracy: 0.7235 - val_loss: 0.5398 - val_accuracy: 0.7120\n",
      "Epoch 22/120\n",
      "10000/10000 [==============================] - 15s 1ms/step - loss: 0.5390 - accuracy: 0.7308 - val_loss: 0.5215 - val_accuracy: 0.7390\n",
      "Epoch 23/120\n",
      "10000/10000 [==============================] - 15s 1ms/step - loss: 0.5290 - accuracy: 0.7367 - val_loss: 0.5169 - val_accuracy: 0.7400\n",
      "Epoch 24/120\n",
      "10000/10000 [==============================] - 15s 2ms/step - loss: 0.5159 - accuracy: 0.7535 - val_loss: 0.4925 - val_accuracy: 0.7520\n",
      "Epoch 25/120\n",
      "10000/10000 [==============================] - 15s 1ms/step - loss: 0.5064 - accuracy: 0.7588 - val_loss: 0.4777 - val_accuracy: 0.7830\n",
      "Epoch 26/120\n",
      "10000/10000 [==============================] - 15s 1ms/step - loss: 0.4935 - accuracy: 0.7721 - val_loss: 0.4665 - val_accuracy: 0.7700\n",
      "Epoch 27/120\n",
      "10000/10000 [==============================] - 15s 1ms/step - loss: 0.4733 - accuracy: 0.7775 - val_loss: 0.4554 - val_accuracy: 0.7850\n",
      "Epoch 28/120\n",
      "10000/10000 [==============================] - 16s 2ms/step - loss: 0.4611 - accuracy: 0.7929 - val_loss: 0.4445 - val_accuracy: 0.7940\n",
      "Epoch 29/120\n",
      "10000/10000 [==============================] - 15s 1ms/step - loss: 0.4488 - accuracy: 0.8018 - val_loss: 0.4507 - val_accuracy: 0.7960\n",
      "Epoch 30/120\n",
      "10000/10000 [==============================] - 15s 1ms/step - loss: 0.4377 - accuracy: 0.8052 - val_loss: 0.4321 - val_accuracy: 0.8010\n",
      "Epoch 31/120\n",
      "10000/10000 [==============================] - 15s 1ms/step - loss: 0.4292 - accuracy: 0.8054 - val_loss: 0.4297 - val_accuracy: 0.8200\n",
      "Epoch 32/120\n",
      "10000/10000 [==============================] - 17s 2ms/step - loss: 0.4192 - accuracy: 0.8165 - val_loss: 0.4222 - val_accuracy: 0.8130\n",
      "Epoch 33/120\n",
      "10000/10000 [==============================] - 17s 2ms/step - loss: 0.4102 - accuracy: 0.8188 - val_loss: 0.4392 - val_accuracy: 0.8000\n",
      "Epoch 34/120\n",
      "10000/10000 [==============================] - 17s 2ms/step - loss: 0.4063 - accuracy: 0.8238 - val_loss: 0.4167 - val_accuracy: 0.8160\n",
      "Epoch 35/120\n",
      "10000/10000 [==============================] - 17s 2ms/step - loss: 0.3989 - accuracy: 0.8227 - val_loss: 0.4036 - val_accuracy: 0.8230\n",
      "Epoch 36/120\n",
      "10000/10000 [==============================] - 15s 2ms/step - loss: 0.3909 - accuracy: 0.8268 - val_loss: 0.4030 - val_accuracy: 0.8180\n",
      "Epoch 37/120\n",
      "10000/10000 [==============================] - 15s 1ms/step - loss: 0.3868 - accuracy: 0.8319 - val_loss: 0.3986 - val_accuracy: 0.8200\n",
      "Epoch 38/120\n",
      "10000/10000 [==============================] - 14s 1ms/step - loss: 0.3790 - accuracy: 0.8362 - val_loss: 0.3962 - val_accuracy: 0.8230\n",
      "Epoch 39/120\n",
      "10000/10000 [==============================] - 15s 1ms/step - loss: 0.3762 - accuracy: 0.8382 - val_loss: 0.4044 - val_accuracy: 0.8220\n",
      "Epoch 40/120\n",
      "10000/10000 [==============================] - 15s 1ms/step - loss: 0.3669 - accuracy: 0.8452 - val_loss: 0.3936 - val_accuracy: 0.8260\n",
      "Epoch 41/120\n",
      "10000/10000 [==============================] - 15s 1ms/step - loss: 0.3657 - accuracy: 0.8415 - val_loss: 0.3883 - val_accuracy: 0.8280\n",
      "Epoch 42/120\n",
      "10000/10000 [==============================] - 15s 1ms/step - loss: 0.3644 - accuracy: 0.8463 - val_loss: 0.3904 - val_accuracy: 0.8310\n",
      "Epoch 43/120\n",
      "10000/10000 [==============================] - 15s 1ms/step - loss: 0.3589 - accuracy: 0.8498 - val_loss: 0.3794 - val_accuracy: 0.8360\n",
      "Epoch 44/120\n",
      "10000/10000 [==============================] - 14s 1ms/step - loss: 0.3552 - accuracy: 0.8467 - val_loss: 0.4057 - val_accuracy: 0.8240\n",
      "Epoch 45/120\n",
      "10000/10000 [==============================] - 15s 1ms/step - loss: 0.3516 - accuracy: 0.8512 - val_loss: 0.3862 - val_accuracy: 0.8400\n",
      "Epoch 46/120\n",
      "10000/10000 [==============================] - 15s 1ms/step - loss: 0.3460 - accuracy: 0.8504 - val_loss: 0.3835 - val_accuracy: 0.8360\n",
      "Epoch 47/120\n",
      "10000/10000 [==============================] - 14s 1ms/step - loss: 0.3491 - accuracy: 0.8507 - val_loss: 0.4017 - val_accuracy: 0.8360\n",
      "Epoch 48/120\n",
      "10000/10000 [==============================] - 15s 1ms/step - loss: 0.3410 - accuracy: 0.8528 - val_loss: 0.3824 - val_accuracy: 0.8320\n",
      "Epoch 49/120\n",
      "10000/10000 [==============================] - 15s 2ms/step - loss: 0.3372 - accuracy: 0.8563 - val_loss: 0.3777 - val_accuracy: 0.8310\n",
      "Epoch 50/120\n",
      "10000/10000 [==============================] - 15s 1ms/step - loss: 0.3309 - accuracy: 0.8582 - val_loss: 0.3823 - val_accuracy: 0.8370\n",
      "Epoch 51/120\n",
      "10000/10000 [==============================] - 15s 1ms/step - loss: 0.3293 - accuracy: 0.8610 - val_loss: 0.3752 - val_accuracy: 0.8300\n",
      "Epoch 52/120\n",
      "10000/10000 [==============================] - 15s 1ms/step - loss: 0.3284 - accuracy: 0.8618 - val_loss: 0.3787 - val_accuracy: 0.8300\n",
      "Epoch 53/120\n",
      "10000/10000 [==============================] - 15s 1ms/step - loss: 0.3241 - accuracy: 0.8610 - val_loss: 0.3784 - val_accuracy: 0.8290\n",
      "Epoch 54/120\n",
      "10000/10000 [==============================] - 15s 1ms/step - loss: 0.3206 - accuracy: 0.8612 - val_loss: 0.3899 - val_accuracy: 0.8220\n",
      "Epoch 55/120\n",
      "10000/10000 [==============================] - 14s 1ms/step - loss: 0.3227 - accuracy: 0.8607 - val_loss: 0.3873 - val_accuracy: 0.8290\n",
      "Epoch 56/120\n",
      "10000/10000 [==============================] - 15s 1ms/step - loss: 0.3170 - accuracy: 0.8661 - val_loss: 0.3981 - val_accuracy: 0.8300\n",
      "Epoch 57/120\n",
      "10000/10000 [==============================] - 15s 1ms/step - loss: 0.3151 - accuracy: 0.8698 - val_loss: 0.3814 - val_accuracy: 0.8300\n",
      "Epoch 58/120\n",
      "10000/10000 [==============================] - 14s 1ms/step - loss: 0.3097 - accuracy: 0.8671 - val_loss: 0.3895 - val_accuracy: 0.8240\n",
      "Epoch 59/120\n",
      "10000/10000 [==============================] - 14s 1ms/step - loss: 0.3078 - accuracy: 0.8668 - val_loss: 0.3761 - val_accuracy: 0.8380\n",
      "Epoch 60/120\n",
      "10000/10000 [==============================] - 15s 1ms/step - loss: 0.3033 - accuracy: 0.8703 - val_loss: 0.3974 - val_accuracy: 0.8370\n",
      "Epoch 61/120\n",
      "10000/10000 [==============================] - 14s 1ms/step - loss: 0.3032 - accuracy: 0.8726 - val_loss: 0.4140 - val_accuracy: 0.8260\n",
      "Epoch 62/120\n",
      "10000/10000 [==============================] - 15s 1ms/step - loss: 0.3038 - accuracy: 0.8724 - val_loss: 0.4117 - val_accuracy: 0.8380\n",
      "Epoch 63/120\n",
      "10000/10000 [==============================] - 14s 1ms/step - loss: 0.3024 - accuracy: 0.8688 - val_loss: 0.4101 - val_accuracy: 0.8330\n",
      "Epoch 64/120\n",
      "10000/10000 [==============================] - 14s 1ms/step - loss: 0.2905 - accuracy: 0.8720 - val_loss: 0.4124 - val_accuracy: 0.8250\n",
      "Epoch 65/120\n",
      "10000/10000 [==============================] - 11s 1ms/step - loss: 0.2964 - accuracy: 0.8716 - val_loss: 0.4017 - val_accuracy: 0.8300\n",
      "Epoch 66/120\n",
      "10000/10000 [==============================] - 9s 872us/step - loss: 0.2890 - accuracy: 0.8732 - val_loss: 0.3941 - val_accuracy: 0.8300\n",
      "Epoch 67/120\n",
      "10000/10000 [==============================] - 8s 826us/step - loss: 0.2931 - accuracy: 0.8775 - val_loss: 0.4043 - val_accuracy: 0.8260\n",
      "Epoch 68/120\n",
      "10000/10000 [==============================] - 9s 852us/step - loss: 0.2887 - accuracy: 0.8750 - val_loss: 0.4436 - val_accuracy: 0.8270\n",
      "Epoch 69/120\n",
      "10000/10000 [==============================] - 8s 828us/step - loss: 0.2881 - accuracy: 0.8778 - val_loss: 0.4211 - val_accuracy: 0.8230\n",
      "Epoch 70/120\n",
      "10000/10000 [==============================] - 9s 851us/step - loss: 0.2867 - accuracy: 0.8789 - val_loss: 0.4124 - val_accuracy: 0.8370\n",
      "Epoch 71/120\n",
      "10000/10000 [==============================] - 8s 821us/step - loss: 0.2787 - accuracy: 0.8816 - val_loss: 0.4259 - val_accuracy: 0.8240\n",
      "Epoch 72/120\n",
      "10000/10000 [==============================] - 8s 847us/step - loss: 0.2839 - accuracy: 0.8796 - val_loss: 0.4246 - val_accuracy: 0.8200\n",
      "Epoch 73/120\n",
      "10000/10000 [==============================] - 8s 829us/step - loss: 0.2826 - accuracy: 0.8794 - val_loss: 0.4205 - val_accuracy: 0.8320\n",
      "Epoch 74/120\n",
      "10000/10000 [==============================] - 8s 834us/step - loss: 0.2782 - accuracy: 0.8814 - val_loss: 0.4150 - val_accuracy: 0.8260\n",
      "Epoch 75/120\n",
      "10000/10000 [==============================] - 8s 834us/step - loss: 0.2759 - accuracy: 0.8821 - val_loss: 0.4338 - val_accuracy: 0.8270\n",
      "Epoch 76/120\n",
      "10000/10000 [==============================] - 8s 820us/step - loss: 0.2748 - accuracy: 0.8822 - val_loss: 0.4362 - val_accuracy: 0.8270\n",
      "Epoch 77/120\n",
      "10000/10000 [==============================] - 8s 822us/step - loss: 0.2700 - accuracy: 0.8851 - val_loss: 0.4172 - val_accuracy: 0.8250\n",
      "Epoch 78/120\n",
      "10000/10000 [==============================] - 8s 828us/step - loss: 0.2700 - accuracy: 0.8837 - val_loss: 0.4460 - val_accuracy: 0.8340\n",
      "Epoch 79/120\n",
      "10000/10000 [==============================] - 8s 833us/step - loss: 0.2657 - accuracy: 0.8887 - val_loss: 0.4390 - val_accuracy: 0.8260\n",
      "Epoch 80/120\n",
      "10000/10000 [==============================] - 8s 816us/step - loss: 0.2697 - accuracy: 0.8846 - val_loss: 0.4511 - val_accuracy: 0.8290\n",
      "Epoch 81/120\n",
      "10000/10000 [==============================] - 8s 832us/step - loss: 0.2599 - accuracy: 0.8867 - val_loss: 0.4453 - val_accuracy: 0.8310\n",
      "Epoch 82/120\n",
      "10000/10000 [==============================] - 8s 811us/step - loss: 0.2623 - accuracy: 0.8907 - val_loss: 0.4716 - val_accuracy: 0.8170\n",
      "Epoch 83/120\n",
      "10000/10000 [==============================] - 8s 830us/step - loss: 0.2632 - accuracy: 0.8925 - val_loss: 0.4385 - val_accuracy: 0.8320\n",
      "Epoch 84/120\n",
      "10000/10000 [==============================] - 8s 824us/step - loss: 0.2625 - accuracy: 0.8912 - val_loss: 0.4276 - val_accuracy: 0.8300\n",
      "Epoch 85/120\n",
      "10000/10000 [==============================] - 8s 829us/step - loss: 0.2548 - accuracy: 0.8932 - val_loss: 0.4482 - val_accuracy: 0.8190\n",
      "Epoch 86/120\n",
      "10000/10000 [==============================] - 8s 801us/step - loss: 0.2583 - accuracy: 0.8909 - val_loss: 0.4475 - val_accuracy: 0.8220\n",
      "Epoch 87/120\n",
      "10000/10000 [==============================] - 8s 833us/step - loss: 0.2522 - accuracy: 0.8914 - val_loss: 0.4335 - val_accuracy: 0.8290\n",
      "Epoch 88/120\n",
      "10000/10000 [==============================] - 8s 803us/step - loss: 0.2403 - accuracy: 0.8964 - val_loss: 0.4563 - val_accuracy: 0.8260\n",
      "Epoch 89/120\n",
      "10000/10000 [==============================] - 8s 833us/step - loss: 0.2490 - accuracy: 0.8908 - val_loss: 0.4497 - val_accuracy: 0.8180\n",
      "Epoch 90/120\n",
      "10000/10000 [==============================] - 8s 794us/step - loss: 0.2500 - accuracy: 0.8909 - val_loss: 0.4731 - val_accuracy: 0.8130\n",
      "Epoch 91/120\n",
      "10000/10000 [==============================] - 8s 833us/step - loss: 0.2433 - accuracy: 0.8978 - val_loss: 0.4765 - val_accuracy: 0.8240\n",
      "Epoch 92/120\n",
      "10000/10000 [==============================] - 8s 795us/step - loss: 0.2438 - accuracy: 0.8961 - val_loss: 0.4462 - val_accuracy: 0.8190\n",
      "Epoch 93/120\n",
      "10000/10000 [==============================] - 8s 835us/step - loss: 0.2455 - accuracy: 0.8962 - val_loss: 0.4939 - val_accuracy: 0.8200\n",
      "Epoch 94/120\n",
      "10000/10000 [==============================] - 8s 796us/step - loss: 0.2396 - accuracy: 0.8991 - val_loss: 0.4790 - val_accuracy: 0.8240\n",
      "Epoch 95/120\n",
      "10000/10000 [==============================] - 8s 837us/step - loss: 0.2418 - accuracy: 0.8998 - val_loss: 0.4730 - val_accuracy: 0.8140\n",
      "Epoch 96/120\n",
      "10000/10000 [==============================] - 8s 789us/step - loss: 0.2393 - accuracy: 0.8977 - val_loss: 0.4927 - val_accuracy: 0.8060\n",
      "Epoch 97/120\n",
      "10000/10000 [==============================] - 8s 840us/step - loss: 0.2373 - accuracy: 0.8997 - val_loss: 0.5021 - val_accuracy: 0.8160\n",
      "Epoch 98/120\n",
      "10000/10000 [==============================] - 8s 791us/step - loss: 0.2297 - accuracy: 0.9041 - val_loss: 0.4947 - val_accuracy: 0.8160\n",
      "Epoch 99/120\n",
      "10000/10000 [==============================] - 8s 832us/step - loss: 0.2319 - accuracy: 0.9015 - val_loss: 0.4642 - val_accuracy: 0.8200\n",
      "Epoch 100/120\n",
      "10000/10000 [==============================] - 8s 788us/step - loss: 0.2304 - accuracy: 0.9015 - val_loss: 0.4769 - val_accuracy: 0.8190\n",
      "Epoch 101/120\n",
      "10000/10000 [==============================] - 8s 845us/step - loss: 0.2276 - accuracy: 0.9031 - val_loss: 0.4856 - val_accuracy: 0.8230\n",
      "Epoch 102/120\n",
      "10000/10000 [==============================] - 8s 788us/step - loss: 0.2325 - accuracy: 0.8985 - val_loss: 0.4609 - val_accuracy: 0.8280\n",
      "Epoch 103/120\n",
      "10000/10000 [==============================] - 8s 828us/step - loss: 0.2253 - accuracy: 0.9057 - val_loss: 0.5297 - val_accuracy: 0.8080\n",
      "Epoch 104/120\n",
      "10000/10000 [==============================] - 8s 782us/step - loss: 0.2289 - accuracy: 0.9021 - val_loss: 0.4387 - val_accuracy: 0.8270\n",
      "Epoch 105/120\n",
      "10000/10000 [==============================] - 8s 834us/step - loss: 0.2263 - accuracy: 0.9049 - val_loss: 0.4788 - val_accuracy: 0.8130\n",
      "Epoch 106/120\n",
      "10000/10000 [==============================] - 8s 796us/step - loss: 0.2244 - accuracy: 0.9043 - val_loss: 0.4753 - val_accuracy: 0.8250\n",
      "Epoch 107/120\n",
      "10000/10000 [==============================] - 8s 828us/step - loss: 0.2250 - accuracy: 0.9070 - val_loss: 0.4981 - val_accuracy: 0.8230\n",
      "Epoch 108/120\n",
      "10000/10000 [==============================] - 8s 793us/step - loss: 0.2299 - accuracy: 0.9068 - val_loss: 0.4597 - val_accuracy: 0.8260\n",
      "Epoch 109/120\n",
      "10000/10000 [==============================] - 8s 837us/step - loss: 0.2235 - accuracy: 0.9081 - val_loss: 0.5124 - val_accuracy: 0.8090\n",
      "Epoch 110/120\n",
      "10000/10000 [==============================] - 8s 822us/step - loss: 0.2240 - accuracy: 0.9075 - val_loss: 0.4929 - val_accuracy: 0.8190\n",
      "Epoch 111/120\n",
      "10000/10000 [==============================] - 9s 859us/step - loss: 0.2174 - accuracy: 0.9077 - val_loss: 0.4778 - val_accuracy: 0.8160\n",
      "Epoch 112/120\n",
      "10000/10000 [==============================] - 8s 808us/step - loss: 0.2118 - accuracy: 0.9126 - val_loss: 0.4817 - val_accuracy: 0.8120\n",
      "Epoch 113/120\n",
      "10000/10000 [==============================] - 8s 817us/step - loss: 0.2134 - accuracy: 0.9119 - val_loss: 0.5229 - val_accuracy: 0.8160\n",
      "Epoch 114/120\n",
      "10000/10000 [==============================] - 8s 798us/step - loss: 0.2132 - accuracy: 0.9114 - val_loss: 0.5103 - val_accuracy: 0.8140\n",
      "Epoch 115/120\n",
      "10000/10000 [==============================] - 8s 817us/step - loss: 0.2115 - accuracy: 0.9114 - val_loss: 0.5193 - val_accuracy: 0.8160\n",
      "Epoch 116/120\n",
      "10000/10000 [==============================] - 8s 791us/step - loss: 0.2172 - accuracy: 0.9100 - val_loss: 0.5056 - val_accuracy: 0.8250\n",
      "Epoch 117/120\n",
      "10000/10000 [==============================] - 8s 815us/step - loss: 0.2129 - accuracy: 0.9101 - val_loss: 0.5184 - val_accuracy: 0.8120\n",
      "Epoch 118/120\n",
      "10000/10000 [==============================] - 8s 799us/step - loss: 0.2056 - accuracy: 0.9158 - val_loss: 0.5267 - val_accuracy: 0.8120\n",
      "Epoch 119/120\n",
      "10000/10000 [==============================] - 8s 815us/step - loss: 0.2007 - accuracy: 0.9171 - val_loss: 0.5372 - val_accuracy: 0.8130\n",
      "Epoch 120/120\n",
      "10000/10000 [==============================] - 8s 804us/step - loss: 0.2104 - accuracy: 0.9107 - val_loss: 0.5317 - val_accuracy: 0.8110\n"
     ]
    }
   ],
   "source": [
    "history = model.fit([inputs_train, queries_train], answers_train,batch_size=32,epochs=120,validation_data=([inputs_test, queries_test], answers_test))"
   ]
  },
  {
   "cell_type": "code",
   "execution_count": 40,
   "metadata": {},
   "outputs": [
    {
     "name": "stdout",
     "output_type": "stream",
     "text": [
      "dict_keys(['val_loss', 'val_accuracy', 'loss', 'accuracy'])\n"
     ]
    },
    {
     "data": {
      "image/png": "[encoded data removed]",
      "text/plain": [
       "<Figure size 432x288 with 1 Axes>"
      ]
     },
     "metadata": {
      "needs_background": "light"
     },
     "output_type": "display_data"
    }
   ],
   "source": [
    "import matplotlib.pyplot as plt\n",
    "%matplotlib inline\n",
    "print(history.history.keys())\n",
    "# summarize history for accuracy\n",
    "plt.plot(history.history['accuracy'])\n",
    "plt.plot(history.history['val_accuracy'])\n",
    "plt.title('model accuracy')\n",
    "plt.ylabel('accuracy')\n",
    "plt.xlabel('epoch')\n",
    "plt.legend(['train', 'test'], loc='upper left')\n",
    "plt.show()\n"
   ]
  },
  {
   "cell_type": "code",
   "execution_count": 37,
   "metadata": {},
   "outputs": [],
   "source": [
    "model.save('mybrandnewmodel.h5')\n",
    "model.load_weights('mybrandnewmodel.h5')"
   ]
  },
  {
   "cell_type": "code",
   "execution_count": 38,
   "metadata": {},
   "outputs": [
    {
     "name": "stdout",
     "output_type": "stream",
     "text": [
      "Mary got the milk there . John moved to the bedroom .\n",
      "Is John in the kitchen ?\n"
     ]
    }
   ],
   "source": [
    "story =' '.join(word for word in test_data[0][0])\n",
    "print(story)\n",
    "query = ' '.join(word for word in test_data[0][1])\n",
    "print(query)"
   ]
  },
  {
   "cell_type": "code",
   "execution_count": 39,
   "metadata": {},
   "outputs": [
    {
     "name": "stdout",
     "output_type": "stream",
     "text": [
      "True Test Answer from Data is: no\n"
     ]
    }
   ],
   "source": [
    "print(\"True Test Answer from Data is:\",test_data[0][2])\n",
    "pred_results = model.predict(([inputs_test, queries_test]))"
   ]
  },
  {
   "cell_type": "code",
   "execution_count": 40,
   "metadata": {},
   "outputs": [
    {
     "name": "stdout",
     "output_type": "stream",
     "text": [
      "Predicted answer is:  yes\n",
      "Probability of certainty was:  0.033337425\n"
     ]
    }
   ],
   "source": [
    "val_max = np.argmax(pred_results[0])\n",
    "\n",
    "for key, val in tokenizer.word_index.items():\n",
    "    if val == val_max:\n",
    "        k = key\n",
    "\n",
    "print(\"Predicted answer is: \", k)\n",
    "print(\"Probability of certainty was: \", pred_results[0][val_max])"
   ]
  },
  {
   "cell_type": "code",
   "execution_count": null,
   "metadata": {},
   "outputs": [],
   "source": []
  },
  {
   "cell_type": "code",
   "execution_count": null,
   "metadata": {},
   "outputs": [],
   "source": []
  },
  {
   "cell_type": "code",
   "execution_count": null,
   "metadata": {},
   "outputs": [],
   "source": []
  },
  {
   "cell_type": "code",
   "execution_count": null,
   "metadata": {},
   "outputs": [],
   "source": []
  },
  {
   "cell_type": "code",
   "execution_count": null,
   "metadata": {},
   "outputs": [],
   "source": []
  }
 ],
 "metadata": {
  "kernelspec": {
   "display_name": "Python 3",
   "language": "python",
   "name": "python3"
  },
  "language_info": {
   "codemirror_mode": {
    "name": "ipython",
    "version": 3
   },
   "file_extension": ".py",
   "mimetype": "text/x-python",
   "name": "python",
   "nbconvert_exporter": "python",
   "pygments_lexer": "ipython3",
   "version": "3.7.7"
  }
 },
 "nbformat": 4,
 "nbformat_minor": 4
}
