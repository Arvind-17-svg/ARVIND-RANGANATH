{
 "cells": [
  {
   "cell_type": "code",
   "execution_count": 1,
   "metadata": {},
   "outputs": [
    {
     "name": "stderr",
     "output_type": "stream",
     "text": [
      "C:\\Users\\LENOVO\\Anaconda\\lib\\site-packages\\tensorflow\\python\\framework\\dtypes.py:516: FutureWarning: Passing (type, 1) or '1type' as a synonym of type is deprecated; in a future version of numpy, it will be understood as (type, (1,)) / '(1,)type'.\n",
      "  _np_qint8 = np.dtype([(\"qint8\", np.int8, 1)])\n",
      "C:\\Users\\LENOVO\\Anaconda\\lib\\site-packages\\tensorflow\\python\\framework\\dtypes.py:517: FutureWarning: Passing (type, 1) or '1type' as a synonym of type is deprecated; in a future version of numpy, it will be understood as (type, (1,)) / '(1,)type'.\n",
      "  _np_quint8 = np.dtype([(\"quint8\", np.uint8, 1)])\n",
      "C:\\Users\\LENOVO\\Anaconda\\lib\\site-packages\\tensorflow\\python\\framework\\dtypes.py:518: FutureWarning: Passing (type, 1) or '1type' as a synonym of type is deprecated; in a future version of numpy, it will be understood as (type, (1,)) / '(1,)type'.\n",
      "  _np_qint16 = np.dtype([(\"qint16\", np.int16, 1)])\n",
      "C:\\Users\\LENOVO\\Anaconda\\lib\\site-packages\\tensorflow\\python\\framework\\dtypes.py:519: FutureWarning: Passing (type, 1) or '1type' as a synonym of type is deprecated; in a future version of numpy, it will be understood as (type, (1,)) / '(1,)type'.\n",
      "  _np_quint16 = np.dtype([(\"quint16\", np.uint16, 1)])\n",
      "C:\\Users\\LENOVO\\Anaconda\\lib\\site-packages\\tensorflow\\python\\framework\\dtypes.py:520: FutureWarning: Passing (type, 1) or '1type' as a synonym of type is deprecated; in a future version of numpy, it will be understood as (type, (1,)) / '(1,)type'.\n",
      "  _np_qint32 = np.dtype([(\"qint32\", np.int32, 1)])\n",
      "C:\\Users\\LENOVO\\Anaconda\\lib\\site-packages\\tensorflow\\python\\framework\\dtypes.py:525: FutureWarning: Passing (type, 1) or '1type' as a synonym of type is deprecated; in a future version of numpy, it will be understood as (type, (1,)) / '(1,)type'.\n",
      "  np_resource = np.dtype([(\"resource\", np.ubyte, 1)])\n",
      "C:\\Users\\LENOVO\\Anaconda\\lib\\site-packages\\tensorboard\\compat\\tensorflow_stub\\dtypes.py:541: FutureWarning: Passing (type, 1) or '1type' as a synonym of type is deprecated; in a future version of numpy, it will be understood as (type, (1,)) / '(1,)type'.\n",
      "  _np_qint8 = np.dtype([(\"qint8\", np.int8, 1)])\n",
      "C:\\Users\\LENOVO\\Anaconda\\lib\\site-packages\\tensorboard\\compat\\tensorflow_stub\\dtypes.py:542: FutureWarning: Passing (type, 1) or '1type' as a synonym of type is deprecated; in a future version of numpy, it will be understood as (type, (1,)) / '(1,)type'.\n",
      "  _np_quint8 = np.dtype([(\"quint8\", np.uint8, 1)])\n",
      "C:\\Users\\LENOVO\\Anaconda\\lib\\site-packages\\tensorboard\\compat\\tensorflow_stub\\dtypes.py:543: FutureWarning: Passing (type, 1) or '1type' as a synonym of type is deprecated; in a future version of numpy, it will be understood as (type, (1,)) / '(1,)type'.\n",
      "  _np_qint16 = np.dtype([(\"qint16\", np.int16, 1)])\n",
      "C:\\Users\\LENOVO\\Anaconda\\lib\\site-packages\\tensorboard\\compat\\tensorflow_stub\\dtypes.py:544: FutureWarning: Passing (type, 1) or '1type' as a synonym of type is deprecated; in a future version of numpy, it will be understood as (type, (1,)) / '(1,)type'.\n",
      "  _np_quint16 = np.dtype([(\"quint16\", np.uint16, 1)])\n",
      "C:\\Users\\LENOVO\\Anaconda\\lib\\site-packages\\tensorboard\\compat\\tensorflow_stub\\dtypes.py:545: FutureWarning: Passing (type, 1) or '1type' as a synonym of type is deprecated; in a future version of numpy, it will be understood as (type, (1,)) / '(1,)type'.\n",
      "  _np_qint32 = np.dtype([(\"qint32\", np.int32, 1)])\n",
      "C:\\Users\\LENOVO\\Anaconda\\lib\\site-packages\\tensorboard\\compat\\tensorflow_stub\\dtypes.py:550: FutureWarning: Passing (type, 1) or '1type' as a synonym of type is deprecated; in a future version of numpy, it will be understood as (type, (1,)) / '(1,)type'.\n",
      "  np_resource = np.dtype([(\"resource\", np.ubyte, 1)])\n"
     ]
    }
   ],
   "source": [
    "import numpy as np\n",
    "import matplotlib.pyplot as plt\n",
    "import tensorflow as tf\n",
    "import pandas as pd\n"
   ]
  },
  {
   "cell_type": "code",
   "execution_count": 8,
   "metadata": {},
   "outputs": [],
   "source": [
    "train_dir=\"facial_recognition/Training/Training\"\n",
    "test_dir=\"facial_recognition/Testing/Testing\""
   ]
  },
  {
   "cell_type": "code",
   "execution_count": 24,
   "metadata": {},
   "outputs": [],
   "source": [
    "from tensorflow.keras.preprocessing.image import ImageDataGenerator\n",
    "from tensorflow.keras.models import Sequential\n",
    "from tensorflow.keras.layers import Conv2D,Dense,MaxPool2D,Flatten"
   ]
  },
  {
   "cell_type": "code",
   "execution_count": 25,
   "metadata": {},
   "outputs": [],
   "source": [
    "train_datagen=ImageDataGenerator(rescale=1./255,height_shift_range=0.2,width_shift_range=0.2,shear_range=0.2,horizontal_flip=True)\n",
    "test_datagen=ImageDataGenerator(rescale=1./255)"
   ]
  },
  {
   "cell_type": "code",
   "execution_count": 26,
   "metadata": {},
   "outputs": [
    {
     "name": "stdout",
     "output_type": "stream",
     "text": [
      "Found 18806 images belonging to 4 classes.\n",
      "Found 4989 images belonging to 4 classes.\n"
     ]
    }
   ],
   "source": [
    "train_set=train_datagen.flow_from_directory(train_dir,batch_size=64,target_size=(48,48),class_mode=\"categorical\",color_mode=\"grayscale\")\n",
    "test_set=test_datagen.flow_from_directory(test_dir,batch_size=64,target_size=(48,48),class_mode=\"categorical\",color_mode=\"grayscale\")"
   ]
  },
  {
   "cell_type": "code",
   "execution_count": 27,
   "metadata": {},
   "outputs": [],
   "source": [
    "model=Sequential()\n",
    "model.add(Conv2D(16,(3,3),input_shape=(48,48,1),activation=\"relu\"))\n",
    "model.add(MaxPool2D(2,2))\n",
    "model.add(Conv2D(32,(3,3),activation=\"relu\"))\n",
    "model.add(MaxPool2D(2,2))\n",
    "model.add(Conv2D(64,(3,3),activation=\"relu\"))\n",
    "model.add(MaxPool2D(2,2))\n",
    "model.add(Conv2D(128,(3,3),activation=\"relu\"))\n",
    "model.add(MaxPool2D(2,2))\n",
    "model.add(Flatten())\n",
    "model.add(Dense(512,activation=\"relu\"))\n",
    "model.add(Dense(4,activation='softmax'))"
   ]
  },
  {
   "cell_type": "code",
   "execution_count": 28,
   "metadata": {},
   "outputs": [
    {
     "name": "stdout",
     "output_type": "stream",
     "text": [
      "Model: \"sequential_9\"\n",
      "_________________________________________________________________\n",
      "Layer (type)                 Output Shape              Param #   \n",
      "=================================================================\n",
      "conv2d_29 (Conv2D)           (None, 46, 46, 16)        160       \n",
      "_________________________________________________________________\n",
      "max_pooling2d_22 (MaxPooling (None, 23, 23, 16)        0         \n",
      "_________________________________________________________________\n",
      "conv2d_30 (Conv2D)           (None, 21, 21, 32)        4640      \n",
      "_________________________________________________________________\n",
      "max_pooling2d_23 (MaxPooling (None, 10, 10, 32)        0         \n",
      "_________________________________________________________________\n",
      "conv2d_31 (Conv2D)           (None, 8, 8, 64)          18496     \n",
      "_________________________________________________________________\n",
      "max_pooling2d_24 (MaxPooling (None, 4, 4, 64)          0         \n",
      "_________________________________________________________________\n",
      "conv2d_32 (Conv2D)           (None, 2, 2, 128)         73856     \n",
      "_________________________________________________________________\n",
      "max_pooling2d_25 (MaxPooling (None, 1, 1, 128)         0         \n",
      "_________________________________________________________________\n",
      "flatten (Flatten)            (None, 128)               0         \n",
      "_________________________________________________________________\n",
      "dense (Dense)                (None, 512)               66048     \n",
      "_________________________________________________________________\n",
      "dense_1 (Dense)              (None, 4)                 2052      \n",
      "=================================================================\n",
      "Total params: 165,252\n",
      "Trainable params: 165,252\n",
      "Non-trainable params: 0\n",
      "_________________________________________________________________\n"
     ]
    }
   ],
   "source": [
    "model.summary()"
   ]
  },
  {
   "cell_type": "code",
   "execution_count": 29,
   "metadata": {},
   "outputs": [],
   "source": [
    "model.compile(optimizer=\"adam\",loss=\"categorical_crossentropy\",metrics=['accuracy'])"
   ]
  },
  {
   "cell_type": "code",
   "execution_count": 31,
   "metadata": {},
   "outputs": [
    {
     "name": "stdout",
     "output_type": "stream",
     "text": [
      "Epoch 1/100\n",
      "294/294 [==============================] - 53s 180ms/step - loss: 1.0129 - acc: 0.5693 - val_loss: 0.9722 - val_acc: 0.5883\n",
      "Epoch 2/100\n",
      "294/294 [==============================] - 58s 197ms/step - loss: 0.9891 - acc: 0.5809 - val_loss: 0.9368 - val_acc: 0.6097\n",
      "Epoch 3/100\n",
      "294/294 [==============================] - 61s 207ms/step - loss: 0.9839 - acc: 0.5824 - val_loss: 0.9611 - val_acc: 0.5841\n",
      "Epoch 4/100\n",
      "294/294 [==============================] - 61s 208ms/step - loss: 0.9572 - acc: 0.5999 - val_loss: 0.9173 - val_acc: 0.6158\n",
      "Epoch 5/100\n",
      "294/294 [==============================] - 63s 214ms/step - loss: 0.9445 - acc: 0.6021 - val_loss: 0.9012 - val_acc: 0.6304\n",
      "Epoch 6/100\n",
      "294/294 [==============================] - 62s 211ms/step - loss: 0.9318 - acc: 0.6048 - val_loss: 0.9001 - val_acc: 0.6190\n",
      "Epoch 7/100\n",
      "294/294 [==============================] - 62s 211ms/step - loss: 0.9242 - acc: 0.6104 - val_loss: 0.8884 - val_acc: 0.6288\n",
      "Epoch 8/100\n",
      "294/294 [==============================] - 62s 212ms/step - loss: 0.9121 - acc: 0.6186 - val_loss: 0.8984 - val_acc: 0.6280\n",
      "Epoch 9/100\n",
      "294/294 [==============================] - 63s 214ms/step - loss: 0.9127 - acc: 0.6178 - val_loss: 0.8691 - val_acc: 0.6396\n",
      "Epoch 10/100\n",
      "294/294 [==============================] - 62s 212ms/step - loss: 0.9006 - acc: 0.6253 - val_loss: 0.8930 - val_acc: 0.6314\n",
      "Epoch 11/100\n",
      "294/294 [==============================] - 62s 210ms/step - loss: 0.8948 - acc: 0.6272 - val_loss: 0.8601 - val_acc: 0.6512\n",
      "Epoch 12/100\n",
      "294/294 [==============================] - 63s 213ms/step - loss: 0.8881 - acc: 0.6292 - val_loss: 0.8806 - val_acc: 0.6346\n",
      "Epoch 13/100\n",
      "294/294 [==============================] - 62s 213ms/step - loss: 0.8823 - acc: 0.6302 - val_loss: 0.8463 - val_acc: 0.6544\n",
      "Epoch 14/100\n",
      "294/294 [==============================] - 62s 212ms/step - loss: 0.8746 - acc: 0.6354 - val_loss: 0.8573 - val_acc: 0.6486\n",
      "Epoch 15/100\n",
      "294/294 [==============================] - 63s 213ms/step - loss: 0.8739 - acc: 0.6347 - val_loss: 0.8839 - val_acc: 0.6376\n",
      "Epoch 16/100\n",
      "294/294 [==============================] - 63s 213ms/step - loss: 0.8625 - acc: 0.6421 - val_loss: 0.8877 - val_acc: 0.6320\n",
      "Epoch 17/100\n",
      "294/294 [==============================] - 63s 213ms/step - loss: 0.8615 - acc: 0.6419 - val_loss: 0.8548 - val_acc: 0.6438\n",
      "Epoch 18/100\n",
      "294/294 [==============================] - 63s 214ms/step - loss: 0.8520 - acc: 0.6461 - val_loss: 0.8450 - val_acc: 0.6528\n",
      "Epoch 19/100\n",
      "294/294 [==============================] - 62s 212ms/step - loss: 0.8494 - acc: 0.6476 - val_loss: 0.8552 - val_acc: 0.6522\n",
      "Epoch 20/100\n",
      "294/294 [==============================] - 62s 211ms/step - loss: 0.8533 - acc: 0.6459 - val_loss: 0.8278 - val_acc: 0.6570\n",
      "Epoch 21/100\n",
      "294/294 [==============================] - 62s 211ms/step - loss: 0.8477 - acc: 0.6461 - val_loss: 0.8328 - val_acc: 0.6552\n",
      "Epoch 22/100\n",
      "294/294 [==============================] - 62s 211ms/step - loss: 0.8404 - acc: 0.6553 - val_loss: 0.8316 - val_acc: 0.6544\n",
      "Epoch 23/100\n",
      "294/294 [==============================] - 62s 211ms/step - loss: 0.8435 - acc: 0.6514 - val_loss: 0.8192 - val_acc: 0.6677\n",
      "Epoch 24/100\n",
      "294/294 [==============================] - 62s 212ms/step - loss: 0.8352 - acc: 0.6566 - val_loss: 0.8171 - val_acc: 0.6673\n",
      "Epoch 25/100\n",
      "294/294 [==============================] - 63s 213ms/step - loss: 0.8405 - acc: 0.6536 - val_loss: 0.8382 - val_acc: 0.6621\n",
      "Epoch 26/100\n",
      "294/294 [==============================] - 62s 211ms/step - loss: 0.8391 - acc: 0.6517 - val_loss: 0.8125 - val_acc: 0.6655\n",
      "Epoch 27/100\n",
      "294/294 [==============================] - 63s 213ms/step - loss: 0.8266 - acc: 0.6594 - val_loss: 0.8122 - val_acc: 0.6721\n",
      "Epoch 28/100\n",
      "294/294 [==============================] - 63s 213ms/step - loss: 0.8269 - acc: 0.6558 - val_loss: 0.8161 - val_acc: 0.6615\n",
      "Epoch 29/100\n",
      "294/294 [==============================] - 63s 213ms/step - loss: 0.8232 - acc: 0.6606 - val_loss: 0.8756 - val_acc: 0.6440\n",
      "Epoch 30/100\n",
      "294/294 [==============================] - 62s 212ms/step - loss: 0.8137 - acc: 0.6620 - val_loss: 0.8521 - val_acc: 0.6522\n",
      "Epoch 31/100\n",
      "294/294 [==============================] - 62s 212ms/step - loss: 0.8198 - acc: 0.6619 - val_loss: 0.8066 - val_acc: 0.6713\n",
      "Epoch 32/100\n",
      "294/294 [==============================] - 62s 212ms/step - loss: 0.8159 - acc: 0.6638 - val_loss: 0.8122 - val_acc: 0.6727\n",
      "Epoch 33/100\n",
      "294/294 [==============================] - 62s 212ms/step - loss: 0.8092 - acc: 0.6688 - val_loss: 0.8352 - val_acc: 0.6621 - loss: 0.8090 - \n",
      "Epoch 34/100\n",
      "294/294 [==============================] - 63s 213ms/step - loss: 0.8141 - acc: 0.6648 - val_loss: 0.8181 - val_acc: 0.6675\n",
      "Epoch 35/100\n",
      "294/294 [==============================] - 62s 212ms/step - loss: 0.8083 - acc: 0.6703 - val_loss: 0.8384 - val_acc: 0.6609\n",
      "Epoch 36/100\n",
      "294/294 [==============================] - 62s 212ms/step - loss: 0.8106 - acc: 0.6671 - val_loss: 0.8034 - val_acc: 0.6669\n",
      "Epoch 37/100\n",
      "294/294 [==============================] - 63s 215ms/step - loss: 0.8133 - acc: 0.6644 - val_loss: 0.8023 - val_acc: 0.6761\n",
      "Epoch 38/100\n",
      "294/294 [==============================] - 64s 219ms/step - loss: 0.8009 - acc: 0.6702 - val_loss: 0.8257 - val_acc: 0.6735\n",
      "Epoch 39/100\n",
      "294/294 [==============================] - 64s 218ms/step - loss: 0.7976 - acc: 0.6706 - val_loss: 0.8384 - val_acc: 0.6669\n",
      "Epoch 40/100\n",
      "294/294 [==============================] - 63s 213ms/step - loss: 0.8022 - acc: 0.6703 - val_loss: 0.7903 - val_acc: 0.6775\n",
      "Epoch 41/100\n",
      "294/294 [==============================] - 63s 216ms/step - loss: 0.8021 - acc: 0.6684 - val_loss: 0.8208 - val_acc: 0.6681\n",
      "Epoch 42/100\n",
      "294/294 [==============================] - 64s 217ms/step - loss: 0.7946 - acc: 0.6698 - val_loss: 0.8024 - val_acc: 0.6807\n",
      "Epoch 43/100\n",
      "294/294 [==============================] - 63s 216ms/step - loss: 0.7935 - acc: 0.6737 - val_loss: 0.8159 - val_acc: 0.6743\n",
      "Epoch 44/100\n",
      "294/294 [==============================] - 64s 216ms/step - loss: 0.7976 - acc: 0.6692 - val_loss: 0.8407 - val_acc: 0.6576\n",
      "Epoch 45/100\n",
      "294/294 [==============================] - 63s 215ms/step - loss: 0.7918 - acc: 0.6724 - val_loss: 0.7943 - val_acc: 0.6745\n",
      "Epoch 46/100\n",
      "294/294 [==============================] - 63s 213ms/step - loss: 0.7908 - acc: 0.6727 - val_loss: 0.8344 - val_acc: 0.6619\n",
      "Epoch 47/100\n",
      "294/294 [==============================] - 62s 212ms/step - loss: 0.7919 - acc: 0.6738 - val_loss: 0.7981 - val_acc: 0.6833\n",
      "Epoch 48/100\n",
      "294/294 [==============================] - 63s 215ms/step - loss: 0.7874 - acc: 0.6736 - val_loss: 0.7900 - val_acc: 0.6837\n",
      "Epoch 49/100\n",
      "294/294 [==============================] - 62s 212ms/step - loss: 0.7856 - acc: 0.6743 - val_loss: 0.8365 - val_acc: 0.6655\n",
      "Epoch 50/100\n",
      "294/294 [==============================] - 62s 212ms/step - loss: 0.7830 - acc: 0.6811 - val_loss: 0.8028 - val_acc: 0.6825\n",
      "Epoch 51/100\n",
      "294/294 [==============================] - 63s 215ms/step - loss: 0.7811 - acc: 0.6773 - val_loss: 0.7850 - val_acc: 0.6837\n",
      "Epoch 52/100\n",
      "294/294 [==============================] - 63s 214ms/step - loss: 0.7787 - acc: 0.6847 - val_loss: 0.7891 - val_acc: 0.6893\n",
      "Epoch 53/100\n",
      "294/294 [==============================] - 63s 213ms/step - loss: 0.7833 - acc: 0.6764 - val_loss: 0.8047 - val_acc: 0.6791\n",
      "Epoch 54/100\n",
      "294/294 [==============================] - 63s 214ms/step - loss: 0.7774 - acc: 0.6811 - val_loss: 0.7945 - val_acc: 0.6797\n",
      "Epoch 55/100\n",
      "294/294 [==============================] - 62s 212ms/step - loss: 0.7766 - acc: 0.6822 - val_loss: 0.7930 - val_acc: 0.6873\n",
      "Epoch 56/100\n",
      "294/294 [==============================] - 63s 213ms/step - loss: 0.7685 - acc: 0.6800 - val_loss: 0.8015 - val_acc: 0.6799\n",
      "Epoch 57/100\n",
      "294/294 [==============================] - 63s 214ms/step - loss: 0.7727 - acc: 0.6847 - val_loss: 0.7814 - val_acc: 0.6861\n",
      "Epoch 58/100\n",
      "294/294 [==============================] - 63s 213ms/step - loss: 0.7651 - acc: 0.6848 - val_loss: 0.7733 - val_acc: 0.6909\n",
      "Epoch 59/100\n",
      "294/294 [==============================] - 63s 213ms/step - loss: 0.7723 - acc: 0.6837 - val_loss: 0.7750 - val_acc: 0.6891\n",
      "Epoch 60/100\n",
      "294/294 [==============================] - 63s 213ms/step - loss: 0.7589 - acc: 0.6923 - val_loss: 0.7984 - val_acc: 0.6835\n",
      "Epoch 61/100\n",
      "294/294 [==============================] - 63s 214ms/step - loss: 0.7717 - acc: 0.6853 - val_loss: 0.8078 - val_acc: 0.6777\n",
      "Epoch 62/100\n",
      "294/294 [==============================] - 63s 213ms/step - loss: 0.7675 - acc: 0.6847 - val_loss: 0.8055 - val_acc: 0.6779\n",
      "Epoch 63/100\n",
      "294/294 [==============================] - 63s 215ms/step - loss: 0.7696 - acc: 0.6871 - val_loss: 0.7786 - val_acc: 0.6889\n",
      "Epoch 64/100\n",
      "294/294 [==============================] - 63s 214ms/step - loss: 0.7669 - acc: 0.6867 - val_loss: 0.8165 - val_acc: 0.6739\n",
      "Epoch 65/100\n",
      "294/294 [==============================] - 64s 218ms/step - loss: 0.7607 - acc: 0.6886 - val_loss: 0.7839 - val_acc: 0.6813\n",
      "Epoch 66/100\n",
      "294/294 [==============================] - 63s 213ms/step - loss: 0.7579 - acc: 0.6912 - val_loss: 0.8048 - val_acc: 0.6737\n",
      "Epoch 67/100\n",
      "294/294 [==============================] - 62s 212ms/step - loss: 0.7587 - acc: 0.6913 - val_loss: 0.7856 - val_acc: 0.6893\n",
      "Epoch 68/100\n",
      "294/294 [==============================] - 62s 211ms/step - loss: 0.7637 - acc: 0.6899 - val_loss: 0.7881 - val_acc: 0.6859\n",
      "Epoch 69/100\n",
      "294/294 [==============================] - 62s 212ms/step - loss: 0.7555 - acc: 0.6922 - val_loss: 0.7846 - val_acc: 0.6913\n",
      "Epoch 70/100\n",
      "294/294 [==============================] - 63s 214ms/step - loss: 0.7644 - acc: 0.6898 - val_loss: 0.7902 - val_acc: 0.6833\n",
      "Epoch 71/100\n",
      "294/294 [==============================] - 63s 215ms/step - loss: 0.7546 - acc: 0.6907 - val_loss: 0.8091 - val_acc: 0.6741\n",
      "Epoch 72/100\n",
      "294/294 [==============================] - 63s 214ms/step - loss: 0.7598 - acc: 0.6893 - val_loss: 0.7823 - val_acc: 0.6841\n",
      "Epoch 73/100\n",
      "294/294 [==============================] - 63s 216ms/step - loss: 0.7530 - acc: 0.6913 - val_loss: 0.8138 - val_acc: 0.6739\n",
      "Epoch 74/100\n",
      "294/294 [==============================] - 63s 215ms/step - loss: 0.7454 - acc: 0.6962 - val_loss: 0.8013 - val_acc: 0.6815\n",
      "Epoch 75/100\n",
      "294/294 [==============================] - 65s 219ms/step - loss: 0.7516 - acc: 0.6946 - val_loss: 0.7904 - val_acc: 0.6837\n",
      "Epoch 76/100\n",
      "294/294 [==============================] - 63s 214ms/step - loss: 0.7548 - acc: 0.6913 - val_loss: 0.7830 - val_acc: 0.6935\n",
      "Epoch 77/100\n",
      "294/294 [==============================] - 63s 215ms/step - loss: 0.7523 - acc: 0.6909 - val_loss: 0.7947 - val_acc: 0.6807\n",
      "Epoch 78/100\n",
      "294/294 [==============================] - 63s 215ms/step - loss: 0.7538 - acc: 0.6902 - val_loss: 0.8067 - val_acc: 0.6791\n",
      "Epoch 79/100\n",
      "294/294 [==============================] - 63s 215ms/step - loss: 0.7521 - acc: 0.6947 - val_loss: 0.8234 - val_acc: 0.6629\n",
      "Epoch 80/100\n",
      "294/294 [==============================] - 63s 214ms/step - loss: 0.7542 - acc: 0.6934 - val_loss: 0.7942 - val_acc: 0.6799\n",
      "Epoch 81/100\n",
      "294/294 [==============================] - 64s 217ms/step - loss: 0.7496 - acc: 0.6948 - val_loss: 0.7813 - val_acc: 0.6813\n",
      "Epoch 82/100\n",
      "294/294 [==============================] - 64s 216ms/step - loss: 0.7425 - acc: 0.6985 - val_loss: 0.7923 - val_acc: 0.6867\n",
      "Epoch 83/100\n",
      "294/294 [==============================] - 63s 215ms/step - loss: 0.7371 - acc: 0.6993 - val_loss: 0.7738 - val_acc: 0.6879\n",
      "Epoch 84/100\n",
      "294/294 [==============================] - 64s 216ms/step - loss: 0.7445 - acc: 0.6966 - val_loss: 0.8060 - val_acc: 0.6803\n",
      "Epoch 85/100\n",
      "294/294 [==============================] - 63s 216ms/step - loss: 0.7518 - acc: 0.6954 - val_loss: 0.7960 - val_acc: 0.6825\n",
      "Epoch 86/100\n",
      "294/294 [==============================] - 63s 214ms/step - loss: 0.7435 - acc: 0.6982 - val_loss: 0.7897 - val_acc: 0.6901\n",
      "Epoch 87/100\n",
      "294/294 [==============================] - 63s 213ms/step - loss: 0.7444 - acc: 0.6977 - val_loss: 0.7834 - val_acc: 0.6853\n",
      "Epoch 88/100\n",
      "294/294 [==============================] - 63s 214ms/step - loss: 0.7356 - acc: 0.6989 - val_loss: 0.7965 - val_acc: 0.6835\n",
      "Epoch 89/100\n",
      "294/294 [==============================] - 63s 215ms/step - loss: 0.7372 - acc: 0.7043 - val_loss: 0.7899 - val_acc: 0.6801\n",
      "Epoch 90/100\n",
      "294/294 [==============================] - 63s 215ms/step - loss: 0.7399 - acc: 0.7009 - val_loss: 0.7790 - val_acc: 0.6889\n",
      "Epoch 91/100\n",
      "294/294 [==============================] - 63s 216ms/step - loss: 0.7375 - acc: 0.6976 - val_loss: 0.7792 - val_acc: 0.6873\n",
      "Epoch 92/100\n",
      "294/294 [==============================] - 64s 216ms/step - loss: 0.7391 - acc: 0.6988 - val_loss: 0.8104 - val_acc: 0.6783\n",
      "Epoch 93/100\n",
      "294/294 [==============================] - 63s 215ms/step - loss: 0.7367 - acc: 0.6997 - val_loss: 0.7666 - val_acc: 0.6951\n",
      "Epoch 94/100\n",
      "294/294 [==============================] - 63s 215ms/step - loss: 0.7384 - acc: 0.6967 - val_loss: 0.8011 - val_acc: 0.6839\n",
      "Epoch 95/100\n",
      "294/294 [==============================] - 64s 218ms/step - loss: 0.7330 - acc: 0.7003 - val_loss: 0.7774 - val_acc: 0.6965\n",
      "Epoch 96/100\n",
      "294/294 [==============================] - 63s 215ms/step - loss: 0.7328 - acc: 0.7050 - val_loss: 0.7825 - val_acc: 0.6897\n",
      "Epoch 97/100\n",
      "294/294 [==============================] - 64s 219ms/step - loss: 0.7377 - acc: 0.6998 - val_loss: 0.7952 - val_acc: 0.6821\n",
      "Epoch 98/100\n",
      "294/294 [==============================] - 65s 219ms/step - loss: 0.7306 - acc: 0.7018 - val_loss: 0.7777 - val_acc: 0.6889\n",
      "Epoch 99/100\n",
      "294/294 [==============================] - 65s 220ms/step - loss: 0.7321 - acc: 0.7037 - val_loss: 0.7773 - val_acc: 0.6949\n",
      "Epoch 100/100\n",
      "294/294 [==============================] - 65s 221ms/step - loss: 0.7352 - acc: 0.6992 - val_loss: 0.7880 - val_acc: 0.6889\n"
     ]
    }
   ],
   "source": [
    "history=model.fit_generator(train_set,epochs=100,steps_per_epoch=len(train_set),validation_data=test_set)"
   ]
  },
  {
   "cell_type": "code",
   "execution_count": 32,
   "metadata": {},
   "outputs": [],
   "source": [
    "model.save('face.h5')"
   ]
  },
  {
   "cell_type": "code",
   "execution_count": 33,
   "metadata": {},
   "outputs": [
    {
     "data": {
      "text/plain": [
       "[<matplotlib.lines.Line2D at 0x23e173ae6d8>]"
      ]
     },
     "execution_count": 33,
     "metadata": {},
     "output_type": "execute_result"
    },
    {
     "data": {
      "image/png": "[encoded data removed]",
      "text/plain": [
       "<Figure size 432x288 with 1 Axes>"
      ]
     },
     "metadata": {
      "needs_background": "light"
     },
     "output_type": "display_data"
    }
   ],
   "source": [
    "plt.plot(history.history['loss'],label='training loss')\n",
    "plt.plot(history.history['acc'],label='training accuracy')\n",
    "plt.plot(history.history['val_loss'],label='testing loss')\n",
    "plt.plot(history.history['val_acc'],label='testing accuracy')"
   ]
  },
  {
   "cell_type": "code",
   "execution_count": null,
   "metadata": {},
   "outputs": [],
   "source": []
  }
 ],
 "metadata": {
  "kernelspec": {
   "display_name": "Python 3",
   "language": "python",
   "name": "python3"
  },
  "language_info": {
   "codemirror_mode": {
    "name": "ipython",
    "version": 3
   },
   "file_extension": ".py",
   "mimetype": "text/x-python",
   "name": "python",
   "nbconvert_exporter": "python",
   "pygments_lexer": "ipython3",
   "version": "3.6.10"
  }
 },
 "nbformat": 4,
 "nbformat_minor": 4
}
